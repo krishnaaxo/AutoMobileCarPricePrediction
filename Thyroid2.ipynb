{
  "nbformat": 4,
  "nbformat_minor": 0,
  "metadata": {
    "colab": {
      "name": "Thyroid2.ipynb",
      "provenance": [],
      "include_colab_link": true
    },
    "kernelspec": {
      "name": "python3",
      "display_name": "Python 3"
    },
    "accelerator": "GPU"
  },
  "cells": [
    {
      "cell_type": "markdown",
      "metadata": {
        "id": "view-in-github",
        "colab_type": "text"
      },
      "source": [
        "<a href=\"https://colab.research.google.com/github/krishnaaxo/AutoMobileCarPricePrediction/blob/main/Thyroid2.ipynb\" target=\"_parent\"><img src=\"https://colab.research.google.com/assets/colab-badge.svg\" alt=\"Open In Colab\"/></a>"
      ]
    },
    {
      "cell_type": "code",
      "metadata": {
        "id": "hRRMD6uBc6VZ"
      },
      "source": [
        "import numpy as np\r\n",
        "import pandas as pd\r\n",
        "import scipy as sc\r\n",
        "import seaborn as sns\r\n",
        "import warnings\r\n",
        "import matplotlib.pyplot as plt\r\n",
        "from scipy import stats\r\n",
        "%matplotlib inline\r\n",
        "\r\n",
        "from sklearn import metrics\r\n",
        "from sklearn import preprocessing\r\n",
        "\r\n",
        "\r\n",
        "warnings.filterwarnings('ignore')"
      ],
      "execution_count": 190,
      "outputs": []
    },
    {
      "cell_type": "code",
      "metadata": {
        "colab": {
          "base_uri": "https://localhost:8080/",
          "height": 214
        },
        "id": "8fZYsF7Gdx9_",
        "outputId": "668999ea-7fba-47d8-ea3b-56ddb2fca163"
      },
      "source": [
        "dataset = pd.read_csv('full_dataset.csv')\r\n",
        "dataset.head()"
      ],
      "execution_count": 191,
      "outputs": [
        {
          "output_type": "execute_result",
          "data": {
            "text/html": [
              "<div>\n",
              "<style scoped>\n",
              "    .dataframe tbody tr th:only-of-type {\n",
              "        vertical-align: middle;\n",
              "    }\n",
              "\n",
              "    .dataframe tbody tr th {\n",
              "        vertical-align: top;\n",
              "    }\n",
              "\n",
              "    .dataframe thead th {\n",
              "        text-align: right;\n",
              "    }\n",
              "</style>\n",
              "<table border=\"1\" class=\"dataframe\">\n",
              "  <thead>\n",
              "    <tr style=\"text-align: right;\">\n",
              "      <th></th>\n",
              "      <th>on_thyroxine</th>\n",
              "      <th>query_on_thyroxine</th>\n",
              "      <th>on_antithyroid_medication</th>\n",
              "      <th>thyroid_surgery</th>\n",
              "      <th>query_hypothyroid</th>\n",
              "      <th>query_hyperthyroid</th>\n",
              "      <th>pregnant</th>\n",
              "      <th>sick</th>\n",
              "      <th>tumor</th>\n",
              "      <th>lithium</th>\n",
              "      <th>goitre</th>\n",
              "      <th>TSH_measured</th>\n",
              "      <th>T3_measured</th>\n",
              "      <th>TT4_measured</th>\n",
              "      <th>T4U_measured</th>\n",
              "      <th>FTI_measured</th>\n",
              "      <th>age</th>\n",
              "      <th>sex</th>\n",
              "      <th>TSH</th>\n",
              "      <th>T3</th>\n",
              "      <th>TT4</th>\n",
              "      <th>T4U</th>\n",
              "      <th>FTI</th>\n",
              "      <th>classes</th>\n",
              "    </tr>\n",
              "  </thead>\n",
              "  <tbody>\n",
              "    <tr>\n",
              "      <th>0</th>\n",
              "      <td>0</td>\n",
              "      <td>0</td>\n",
              "      <td>0</td>\n",
              "      <td>0</td>\n",
              "      <td>0</td>\n",
              "      <td>0</td>\n",
              "      <td>0</td>\n",
              "      <td>0</td>\n",
              "      <td>0</td>\n",
              "      <td>0</td>\n",
              "      <td>0</td>\n",
              "      <td>1</td>\n",
              "      <td>1</td>\n",
              "      <td>1</td>\n",
              "      <td>1</td>\n",
              "      <td>1</td>\n",
              "      <td>80</td>\n",
              "      <td>1</td>\n",
              "      <td>1.4</td>\n",
              "      <td>0.8</td>\n",
              "      <td>105.0</td>\n",
              "      <td>0.88</td>\n",
              "      <td>120.0</td>\n",
              "      <td>1</td>\n",
              "    </tr>\n",
              "    <tr>\n",
              "      <th>1</th>\n",
              "      <td>0</td>\n",
              "      <td>0</td>\n",
              "      <td>0</td>\n",
              "      <td>0</td>\n",
              "      <td>0</td>\n",
              "      <td>0</td>\n",
              "      <td>0</td>\n",
              "      <td>0</td>\n",
              "      <td>0</td>\n",
              "      <td>0</td>\n",
              "      <td>0</td>\n",
              "      <td>1</td>\n",
              "      <td>1</td>\n",
              "      <td>1</td>\n",
              "      <td>1</td>\n",
              "      <td>1</td>\n",
              "      <td>74</td>\n",
              "      <td>0</td>\n",
              "      <td>0.0</td>\n",
              "      <td>0.7</td>\n",
              "      <td>98.0</td>\n",
              "      <td>0.81</td>\n",
              "      <td>121.0</td>\n",
              "      <td>1</td>\n",
              "    </tr>\n",
              "    <tr>\n",
              "      <th>2</th>\n",
              "      <td>0</td>\n",
              "      <td>0</td>\n",
              "      <td>0</td>\n",
              "      <td>0</td>\n",
              "      <td>0</td>\n",
              "      <td>0</td>\n",
              "      <td>0</td>\n",
              "      <td>0</td>\n",
              "      <td>0</td>\n",
              "      <td>0</td>\n",
              "      <td>0</td>\n",
              "      <td>1</td>\n",
              "      <td>1</td>\n",
              "      <td>1</td>\n",
              "      <td>1</td>\n",
              "      <td>1</td>\n",
              "      <td>32</td>\n",
              "      <td>0</td>\n",
              "      <td>1.4</td>\n",
              "      <td>1.1</td>\n",
              "      <td>121.0</td>\n",
              "      <td>1.11</td>\n",
              "      <td>109.0</td>\n",
              "      <td>1</td>\n",
              "    </tr>\n",
              "    <tr>\n",
              "      <th>3</th>\n",
              "      <td>0</td>\n",
              "      <td>0</td>\n",
              "      <td>0</td>\n",
              "      <td>0</td>\n",
              "      <td>0</td>\n",
              "      <td>0</td>\n",
              "      <td>0</td>\n",
              "      <td>0</td>\n",
              "      <td>0</td>\n",
              "      <td>0</td>\n",
              "      <td>0</td>\n",
              "      <td>1</td>\n",
              "      <td>1</td>\n",
              "      <td>1</td>\n",
              "      <td>1</td>\n",
              "      <td>1</td>\n",
              "      <td>42</td>\n",
              "      <td>0</td>\n",
              "      <td>2.3</td>\n",
              "      <td>1.1</td>\n",
              "      <td>93.0</td>\n",
              "      <td>0.73</td>\n",
              "      <td>127.0</td>\n",
              "      <td>1</td>\n",
              "    </tr>\n",
              "    <tr>\n",
              "      <th>4</th>\n",
              "      <td>0</td>\n",
              "      <td>0</td>\n",
              "      <td>0</td>\n",
              "      <td>0</td>\n",
              "      <td>0</td>\n",
              "      <td>0</td>\n",
              "      <td>0</td>\n",
              "      <td>0</td>\n",
              "      <td>0</td>\n",
              "      <td>0</td>\n",
              "      <td>0</td>\n",
              "      <td>1</td>\n",
              "      <td>1</td>\n",
              "      <td>1</td>\n",
              "      <td>1</td>\n",
              "      <td>1</td>\n",
              "      <td>89</td>\n",
              "      <td>1</td>\n",
              "      <td>0.8</td>\n",
              "      <td>0.8</td>\n",
              "      <td>111.0</td>\n",
              "      <td>0.68</td>\n",
              "      <td>165.0</td>\n",
              "      <td>1</td>\n",
              "    </tr>\n",
              "  </tbody>\n",
              "</table>\n",
              "</div>"
            ],
            "text/plain": [
              "   on_thyroxine  query_on_thyroxine  ...    FTI  classes\n",
              "0             0                   0  ...  120.0        1\n",
              "1             0                   0  ...  121.0        1\n",
              "2             0                   0  ...  109.0        1\n",
              "3             0                   0  ...  127.0        1\n",
              "4             0                   0  ...  165.0        1\n",
              "\n",
              "[5 rows x 24 columns]"
            ]
          },
          "metadata": {
            "tags": []
          },
          "execution_count": 191
        }
      ]
    },
    {
      "cell_type": "code",
      "metadata": {
        "id": "MMij-_pfdyFE"
      },
      "source": [
        "\r\n",
        "X = dataset.iloc[:, 0:-1].values\r\n",
        "y = dataset.iloc[:, -1].values"
      ],
      "execution_count": 192,
      "outputs": []
    },
    {
      "cell_type": "code",
      "metadata": {
        "colab": {
          "base_uri": "https://localhost:8080/"
        },
        "id": "A2LBPUVudyIy",
        "outputId": "fe3209be-d0d0-40d9-d2dc-fef8f5743d90"
      },
      "source": [
        "dataset.info()"
      ],
      "execution_count": 193,
      "outputs": [
        {
          "output_type": "stream",
          "text": [
            "<class 'pandas.core.frame.DataFrame'>\n",
            "RangeIndex: 3152 entries, 0 to 3151\n",
            "Data columns (total 24 columns):\n",
            " #   Column                     Non-Null Count  Dtype  \n",
            "---  ------                     --------------  -----  \n",
            " 0   on_thyroxine               3152 non-null   int64  \n",
            " 1   query_on_thyroxine         3152 non-null   int64  \n",
            " 2   on_antithyroid_medication  3152 non-null   int64  \n",
            " 3   thyroid_surgery            3152 non-null   int64  \n",
            " 4   query_hypothyroid          3152 non-null   int64  \n",
            " 5   query_hyperthyroid         3152 non-null   int64  \n",
            " 6   pregnant                   3152 non-null   int64  \n",
            " 7   sick                       3152 non-null   int64  \n",
            " 8   tumor                      3152 non-null   int64  \n",
            " 9   lithium                    3152 non-null   int64  \n",
            " 10  goitre                     3152 non-null   int64  \n",
            " 11  TSH_measured               3152 non-null   int64  \n",
            " 12  T3_measured                3152 non-null   int64  \n",
            " 13  TT4_measured               3152 non-null   int64  \n",
            " 14  T4U_measured               3152 non-null   int64  \n",
            " 15  FTI_measured               3152 non-null   int64  \n",
            " 16  age                        3152 non-null   int64  \n",
            " 17  sex                        3152 non-null   int64  \n",
            " 18  TSH                        3152 non-null   float64\n",
            " 19  T3                         3152 non-null   float64\n",
            " 20  TT4                        3152 non-null   float64\n",
            " 21  T4U                        3152 non-null   float64\n",
            " 22  FTI                        3152 non-null   float64\n",
            " 23  classes                    3152 non-null   int64  \n",
            "dtypes: float64(5), int64(19)\n",
            "memory usage: 591.1 KB\n"
          ],
          "name": "stdout"
        }
      ]
    },
    {
      "cell_type": "code",
      "metadata": {
        "colab": {
          "base_uri": "https://localhost:8080/",
          "height": 302
        },
        "id": "oBi9gu5pdyMS",
        "outputId": "57baed0b-8d09-4bf0-d9c4-54b62de16939"
      },
      "source": [
        "dataset.describe()"
      ],
      "execution_count": 194,
      "outputs": [
        {
          "output_type": "execute_result",
          "data": {
            "text/html": [
              "<div>\n",
              "<style scoped>\n",
              "    .dataframe tbody tr th:only-of-type {\n",
              "        vertical-align: middle;\n",
              "    }\n",
              "\n",
              "    .dataframe tbody tr th {\n",
              "        vertical-align: top;\n",
              "    }\n",
              "\n",
              "    .dataframe thead th {\n",
              "        text-align: right;\n",
              "    }\n",
              "</style>\n",
              "<table border=\"1\" class=\"dataframe\">\n",
              "  <thead>\n",
              "    <tr style=\"text-align: right;\">\n",
              "      <th></th>\n",
              "      <th>on_thyroxine</th>\n",
              "      <th>query_on_thyroxine</th>\n",
              "      <th>on_antithyroid_medication</th>\n",
              "      <th>thyroid_surgery</th>\n",
              "      <th>query_hypothyroid</th>\n",
              "      <th>query_hyperthyroid</th>\n",
              "      <th>pregnant</th>\n",
              "      <th>sick</th>\n",
              "      <th>tumor</th>\n",
              "      <th>lithium</th>\n",
              "      <th>goitre</th>\n",
              "      <th>TSH_measured</th>\n",
              "      <th>T3_measured</th>\n",
              "      <th>TT4_measured</th>\n",
              "      <th>T4U_measured</th>\n",
              "      <th>FTI_measured</th>\n",
              "      <th>age</th>\n",
              "      <th>sex</th>\n",
              "      <th>TSH</th>\n",
              "      <th>T3</th>\n",
              "      <th>TT4</th>\n",
              "      <th>T4U</th>\n",
              "      <th>FTI</th>\n",
              "      <th>classes</th>\n",
              "    </tr>\n",
              "  </thead>\n",
              "  <tbody>\n",
              "    <tr>\n",
              "      <th>count</th>\n",
              "      <td>3152.000000</td>\n",
              "      <td>3152.000000</td>\n",
              "      <td>3152.000000</td>\n",
              "      <td>3152.000000</td>\n",
              "      <td>3152.000000</td>\n",
              "      <td>3152.000000</td>\n",
              "      <td>3152.000000</td>\n",
              "      <td>3152.000000</td>\n",
              "      <td>3152.000000</td>\n",
              "      <td>3152.000000</td>\n",
              "      <td>3152.000000</td>\n",
              "      <td>3152.000000</td>\n",
              "      <td>3152.000000</td>\n",
              "      <td>3152.000000</td>\n",
              "      <td>3152.000000</td>\n",
              "      <td>3152.000000</td>\n",
              "      <td>3152.000000</td>\n",
              "      <td>3152.000000</td>\n",
              "      <td>3152.000000</td>\n",
              "      <td>3152.000000</td>\n",
              "      <td>3152.000000</td>\n",
              "      <td>3152.000000</td>\n",
              "      <td>3152.000000</td>\n",
              "      <td>3152.000000</td>\n",
              "    </tr>\n",
              "    <tr>\n",
              "      <th>mean</th>\n",
              "      <td>0.145305</td>\n",
              "      <td>0.017449</td>\n",
              "      <td>0.013325</td>\n",
              "      <td>0.032995</td>\n",
              "      <td>0.075825</td>\n",
              "      <td>0.077094</td>\n",
              "      <td>0.019987</td>\n",
              "      <td>0.030774</td>\n",
              "      <td>0.012690</td>\n",
              "      <td>0.000635</td>\n",
              "      <td>0.031409</td>\n",
              "      <td>0.852157</td>\n",
              "      <td>0.779822</td>\n",
              "      <td>0.921003</td>\n",
              "      <td>0.921320</td>\n",
              "      <td>0.921637</td>\n",
              "      <td>51.359772</td>\n",
              "      <td>0.295051</td>\n",
              "      <td>5.689591</td>\n",
              "      <td>1.992291</td>\n",
              "      <td>109.016783</td>\n",
              "      <td>0.983284</td>\n",
              "      <td>114.809613</td>\n",
              "      <td>0.091371</td>\n",
              "    </tr>\n",
              "    <tr>\n",
              "      <th>std</th>\n",
              "      <td>0.352464</td>\n",
              "      <td>0.130959</td>\n",
              "      <td>0.114680</td>\n",
              "      <td>0.178652</td>\n",
              "      <td>0.264760</td>\n",
              "      <td>0.266783</td>\n",
              "      <td>0.139979</td>\n",
              "      <td>0.172733</td>\n",
              "      <td>0.111952</td>\n",
              "      <td>0.025186</td>\n",
              "      <td>0.174447</td>\n",
              "      <td>0.355000</td>\n",
              "      <td>0.414432</td>\n",
              "      <td>0.269778</td>\n",
              "      <td>0.269282</td>\n",
              "      <td>0.268785</td>\n",
              "      <td>19.226176</td>\n",
              "      <td>0.456138</td>\n",
              "      <td>22.953469</td>\n",
              "      <td>1.036009</td>\n",
              "      <td>45.085350</td>\n",
              "      <td>0.234424</td>\n",
              "      <td>59.028114</td>\n",
              "      <td>0.288181</td>\n",
              "    </tr>\n",
              "    <tr>\n",
              "      <th>min</th>\n",
              "      <td>0.000000</td>\n",
              "      <td>0.000000</td>\n",
              "      <td>0.000000</td>\n",
              "      <td>0.000000</td>\n",
              "      <td>0.000000</td>\n",
              "      <td>0.000000</td>\n",
              "      <td>0.000000</td>\n",
              "      <td>0.000000</td>\n",
              "      <td>0.000000</td>\n",
              "      <td>0.000000</td>\n",
              "      <td>0.000000</td>\n",
              "      <td>0.000000</td>\n",
              "      <td>0.000000</td>\n",
              "      <td>0.000000</td>\n",
              "      <td>0.000000</td>\n",
              "      <td>0.000000</td>\n",
              "      <td>1.000000</td>\n",
              "      <td>0.000000</td>\n",
              "      <td>0.000000</td>\n",
              "      <td>0.000000</td>\n",
              "      <td>2.000000</td>\n",
              "      <td>0.000000</td>\n",
              "      <td>0.000000</td>\n",
              "      <td>0.000000</td>\n",
              "    </tr>\n",
              "    <tr>\n",
              "      <th>25%</th>\n",
              "      <td>0.000000</td>\n",
              "      <td>0.000000</td>\n",
              "      <td>0.000000</td>\n",
              "      <td>0.000000</td>\n",
              "      <td>0.000000</td>\n",
              "      <td>0.000000</td>\n",
              "      <td>0.000000</td>\n",
              "      <td>0.000000</td>\n",
              "      <td>0.000000</td>\n",
              "      <td>0.000000</td>\n",
              "      <td>0.000000</td>\n",
              "      <td>1.000000</td>\n",
              "      <td>1.000000</td>\n",
              "      <td>1.000000</td>\n",
              "      <td>1.000000</td>\n",
              "      <td>1.000000</td>\n",
              "      <td>35.000000</td>\n",
              "      <td>0.000000</td>\n",
              "      <td>0.000000</td>\n",
              "      <td>1.400000</td>\n",
              "      <td>83.000000</td>\n",
              "      <td>0.850000</td>\n",
              "      <td>90.000000</td>\n",
              "      <td>0.000000</td>\n",
              "    </tr>\n",
              "    <tr>\n",
              "      <th>50%</th>\n",
              "      <td>0.000000</td>\n",
              "      <td>0.000000</td>\n",
              "      <td>0.000000</td>\n",
              "      <td>0.000000</td>\n",
              "      <td>0.000000</td>\n",
              "      <td>0.000000</td>\n",
              "      <td>0.000000</td>\n",
              "      <td>0.000000</td>\n",
              "      <td>0.000000</td>\n",
              "      <td>0.000000</td>\n",
              "      <td>0.000000</td>\n",
              "      <td>1.000000</td>\n",
              "      <td>1.000000</td>\n",
              "      <td>1.000000</td>\n",
              "      <td>1.000000</td>\n",
              "      <td>1.000000</td>\n",
              "      <td>54.000000</td>\n",
              "      <td>0.000000</td>\n",
              "      <td>0.700000</td>\n",
              "      <td>1.900000</td>\n",
              "      <td>104.000000</td>\n",
              "      <td>0.960000</td>\n",
              "      <td>107.000000</td>\n",
              "      <td>0.000000</td>\n",
              "    </tr>\n",
              "    <tr>\n",
              "      <th>75%</th>\n",
              "      <td>0.000000</td>\n",
              "      <td>0.000000</td>\n",
              "      <td>0.000000</td>\n",
              "      <td>0.000000</td>\n",
              "      <td>0.000000</td>\n",
              "      <td>0.000000</td>\n",
              "      <td>0.000000</td>\n",
              "      <td>0.000000</td>\n",
              "      <td>0.000000</td>\n",
              "      <td>0.000000</td>\n",
              "      <td>0.000000</td>\n",
              "      <td>1.000000</td>\n",
              "      <td>1.000000</td>\n",
              "      <td>1.000000</td>\n",
              "      <td>1.000000</td>\n",
              "      <td>1.000000</td>\n",
              "      <td>67.000000</td>\n",
              "      <td>1.000000</td>\n",
              "      <td>2.200000</td>\n",
              "      <td>2.400000</td>\n",
              "      <td>128.000000</td>\n",
              "      <td>1.070000</td>\n",
              "      <td>128.000000</td>\n",
              "      <td>0.000000</td>\n",
              "    </tr>\n",
              "    <tr>\n",
              "      <th>max</th>\n",
              "      <td>1.000000</td>\n",
              "      <td>1.000000</td>\n",
              "      <td>1.000000</td>\n",
              "      <td>1.000000</td>\n",
              "      <td>1.000000</td>\n",
              "      <td>1.000000</td>\n",
              "      <td>1.000000</td>\n",
              "      <td>1.000000</td>\n",
              "      <td>1.000000</td>\n",
              "      <td>1.000000</td>\n",
              "      <td>1.000000</td>\n",
              "      <td>1.000000</td>\n",
              "      <td>1.000000</td>\n",
              "      <td>1.000000</td>\n",
              "      <td>1.000000</td>\n",
              "      <td>1.000000</td>\n",
              "      <td>98.000000</td>\n",
              "      <td>1.000000</td>\n",
              "      <td>530.000000</td>\n",
              "      <td>10.200000</td>\n",
              "      <td>450.000000</td>\n",
              "      <td>2.210000</td>\n",
              "      <td>881.000000</td>\n",
              "      <td>1.000000</td>\n",
              "    </tr>\n",
              "  </tbody>\n",
              "</table>\n",
              "</div>"
            ],
            "text/plain": [
              "       on_thyroxine  query_on_thyroxine  ...          FTI      classes\n",
              "count   3152.000000         3152.000000  ...  3152.000000  3152.000000\n",
              "mean       0.145305            0.017449  ...   114.809613     0.091371\n",
              "std        0.352464            0.130959  ...    59.028114     0.288181\n",
              "min        0.000000            0.000000  ...     0.000000     0.000000\n",
              "25%        0.000000            0.000000  ...    90.000000     0.000000\n",
              "50%        0.000000            0.000000  ...   107.000000     0.000000\n",
              "75%        0.000000            0.000000  ...   128.000000     0.000000\n",
              "max        1.000000            1.000000  ...   881.000000     1.000000\n",
              "\n",
              "[8 rows x 24 columns]"
            ]
          },
          "metadata": {
            "tags": []
          },
          "execution_count": 194
        }
      ]
    },
    {
      "cell_type": "code",
      "metadata": {
        "colab": {
          "base_uri": "https://localhost:8080/"
        },
        "id": "r43dq7dZepii",
        "outputId": "29f5d556-4eab-450f-d826-a5b16e6aeb55"
      },
      "source": [
        "dataset.isnull().sum()"
      ],
      "execution_count": 195,
      "outputs": [
        {
          "output_type": "execute_result",
          "data": {
            "text/plain": [
              "on_thyroxine                 0\n",
              "query_on_thyroxine           0\n",
              "on_antithyroid_medication    0\n",
              "thyroid_surgery              0\n",
              "query_hypothyroid            0\n",
              "query_hyperthyroid           0\n",
              "pregnant                     0\n",
              "sick                         0\n",
              "tumor                        0\n",
              "lithium                      0\n",
              "goitre                       0\n",
              "TSH_measured                 0\n",
              "T3_measured                  0\n",
              "TT4_measured                 0\n",
              "T4U_measured                 0\n",
              "FTI_measured                 0\n",
              "age                          0\n",
              "sex                          0\n",
              "TSH                          0\n",
              "T3                           0\n",
              "TT4                          0\n",
              "T4U                          0\n",
              "FTI                          0\n",
              "classes                      0\n",
              "dtype: int64"
            ]
          },
          "metadata": {
            "tags": []
          },
          "execution_count": 195
        }
      ]
    },
    {
      "cell_type": "code",
      "metadata": {
        "colab": {
          "base_uri": "https://localhost:8080/",
          "height": 501
        },
        "id": "W5LZYGxtigjz",
        "outputId": "49924c68-2ebe-4253-f35c-ffedba91a9eb"
      },
      "source": [
        "plt.figure(figsize=(12, 6))\r\n",
        "sns.heatmap(dataset.isnull())\r\n",
        "plt.show()"
      ],
      "execution_count": 196,
      "outputs": [
        {
          "output_type": "display_data",
          "data": {
            "image/png": "[encoded data removed]",
            "text/plain": [
              "<Figure size 864x432 with 2 Axes>"
            ]
          },
          "metadata": {
            "tags": [],
            "needs_background": "light"
          }
        }
      ]
    },
    {
      "cell_type": "code",
      "metadata": {
        "colab": {
          "base_uri": "https://localhost:8080/"
        },
        "id": "8No4aOgujCm3",
        "outputId": "d7981cba-c46d-40d0-ef37-52513dfb7dcb"
      },
      "source": [
        "from sklearn.model_selection import train_test_split\r\n",
        "X_train, X_test, y_train, y_test = train_test_split(X, y, test_size = 0.25, random_state = 0)\r\n",
        "print(X_train)\r\n",
        "print(y_train)\r\n",
        "print(X_test)\r\n",
        "print(y_test)"
      ],
      "execution_count": 197,
      "outputs": [
        {
          "output_type": "stream",
          "text": [
            "[[  0.     0.     0.   ... 109.     1.62  67.  ]\n",
            " [  0.     0.     0.   ... 120.     0.78 154.  ]\n",
            " [  0.     0.     0.   ...  86.     0.81 106.  ]\n",
            " ...\n",
            " [  0.     0.     0.   ...  86.     1.05  82.  ]\n",
            " [  0.     0.     0.   ...  78.     0.86  91.  ]\n",
            " [  0.     0.     0.   ...  47.     0.97  48.  ]]\n",
            "[0 0 0 ... 0 0 0]\n",
            "[[  1.     0.     0.   ...  83.     0.89  93.  ]\n",
            " [  0.     0.     0.   ... 104.     0.99 105.  ]\n",
            " [  0.     0.     0.   ... 126.     1.29  98.  ]\n",
            " ...\n",
            " [  0.     0.     0.   ... 125.     1.14 110.  ]\n",
            " [  0.     0.     0.   ... 107.     0.66 162.  ]\n",
            " [  0.     0.     1.   ... 106.     1.07 107.  ]]\n",
            "[0 0 0 0 0 0 0 0 0 0 0 0 0 0 0 1 0 0 0 0 0 0 0 0 0 0 0 0 1 0 0 0 0 0 0 0 1\n",
            " 0 0 0 0 0 0 0 0 0 0 0 0 0 0 0 0 0 0 0 0 0 0 0 0 0 0 0 0 0 1 1 0 0 0 0 0 0\n",
            " 0 0 0 0 0 0 0 0 0 0 0 0 0 0 0 1 0 0 0 0 0 0 0 0 0 0 0 0 0 0 0 0 0 0 0 0 0\n",
            " 0 0 0 0 0 0 0 0 0 0 0 0 0 0 0 0 0 0 0 0 0 1 0 0 0 0 0 0 0 0 0 0 0 0 0 1 0\n",
            " 0 0 0 0 0 1 0 0 0 0 1 0 0 0 0 0 0 0 0 0 0 0 0 0 0 0 0 0 0 0 0 0 0 0 0 0 0\n",
            " 0 0 0 0 0 0 0 0 0 0 0 0 0 0 0 0 0 0 0 0 0 0 1 0 0 0 1 0 1 1 0 0 0 0 0 0 0\n",
            " 0 0 0 0 0 0 0 0 0 0 0 0 0 1 0 0 0 0 1 0 0 0 0 1 0 0 1 0 0 0 0 0 0 0 0 0 0\n",
            " 0 0 0 0 0 0 0 0 0 0 0 0 0 0 0 0 0 0 0 1 0 0 0 1 0 0 0 0 0 0 0 0 0 0 0 0 0\n",
            " 0 0 0 0 0 0 0 0 0 0 0 0 0 0 0 0 0 0 0 0 1 0 0 0 0 0 0 0 1 0 0 1 1 0 0 0 0\n",
            " 0 1 0 0 0 0 0 1 0 0 0 0 0 0 0 0 0 0 0 0 0 0 0 0 0 0 0 0 0 0 0 0 0 0 0 1 0\n",
            " 0 0 0 0 0 0 0 0 0 0 0 0 0 0 0 0 0 0 1 1 0 0 0 1 0 0 1 0 0 0 0 0 0 0 0 0 0\n",
            " 0 0 0 0 0 0 0 0 0 0 0 0 0 0 0 0 0 0 0 0 0 0 0 0 0 0 0 0 0 0 1 1 0 0 0 0 0\n",
            " 0 0 0 0 0 0 0 0 0 0 0 0 0 0 0 0 0 0 0 0 0 1 0 0 0 1 0 0 0 0 0 0 0 0 1 0 1\n",
            " 0 0 0 0 0 0 0 0 0 0 0 0 0 0 0 1 0 0 0 1 0 0 0 0 0 0 0 0 0 0 0 0 0 0 0 0 0\n",
            " 0 1 0 0 0 1 0 0 0 0 0 0 1 0 0 0 0 0 0 0 1 0 1 0 0 0 0 0 0 0 0 0 0 0 0 1 0\n",
            " 0 0 0 0 0 0 0 1 0 0 0 0 0 0 0 0 0 0 0 0 0 1 0 0 1 0 0 0 0 0 0 0 0 0 0 0 0\n",
            " 0 0 0 1 0 0 0 0 0 0 0 0 0 0 0 0 0 0 0 0 0 0 0 0 0 0 0 0 0 0 0 0 0 0 0 0 0\n",
            " 0 0 0 1 0 0 0 0 0 0 0 0 1 0 0 0 0 0 0 0 0 0 0 0 0 0 0 1 0 0 0 0 0 0 0 0 0\n",
            " 0 0 0 0 0 0 0 0 0 0 0 0 0 0 0 0 1 0 0 0 0 0 0 0 0 0 0 0 1 1 0 0 0 0 0 0 0\n",
            " 1 1 0 0 0 0 1 0 0 0 0 1 1 0 0 0 0 0 0 0 0 0 0 0 0 1 0 0 0 0 0 0 0 0 0 0 0\n",
            " 0 0 1 0 0 0 0 0 0 0 0 0 0 0 0 0 0 1 0 0 0 0 0 0 0 0 0 0 0 0 0 1 0 0 0 0 1\n",
            " 0 0 0 0 0 0 0 0 0 0 0]\n"
          ],
          "name": "stdout"
        }
      ]
    },
    {
      "cell_type": "code",
      "metadata": {
        "colab": {
          "base_uri": "https://localhost:8080/"
        },
        "id": "b7bE3j42jI_3",
        "outputId": "e93c962b-8436-401f-bfc2-44636751ec19"
      },
      "source": [
        "from sklearn.preprocessing import StandardScaler\r\n",
        "sc = StandardScaler()\r\n",
        "X_train = sc.fit_transform(X_train)\r\n",
        "X_test = sc.transform(X_test)\r\n",
        "print(X_train)\r\n",
        "print(X_test)"
      ],
      "execution_count": 198,
      "outputs": [
        {
          "output_type": "stream",
          "text": [
            "[[-0.4119684  -0.1344911  -0.11527191 ...  0.00958737  2.70854849\n",
            "  -0.81392632]\n",
            " [-0.4119684  -0.1344911  -0.11527191 ...  0.25376951 -0.86569875\n",
            "   0.67479301]\n",
            " [-0.4119684  -0.1344911  -0.11527191 ... -0.50097529 -0.73804706\n",
            "  -0.14656938]\n",
            " ...\n",
            " [-0.4119684  -0.1344911  -0.11527191 ... -0.50097529  0.28316643\n",
            "  -0.55725057]\n",
            " [-0.4119684  -0.1344911  -0.11527191 ... -0.6785623  -0.52529425\n",
            "  -0.40324513]\n",
            " [-0.4119684  -0.1344911  -0.11527191 ... -1.36671196 -0.05723807\n",
            "  -1.13904893]]\n",
            "[[ 2.42737065 -0.1344911  -0.11527191 ... -0.56757041 -0.39764257\n",
            "  -0.36902169]\n",
            " [-0.4119684  -0.1344911  -0.11527191 ... -0.10140451  0.02786306\n",
            "  -0.1636811 ]\n",
            " [-0.4119684  -0.1344911  -0.11527191 ...  0.38695977  1.30437993\n",
            "  -0.28346311]\n",
            " ...\n",
            " [-0.4119684  -0.1344911  -0.11527191 ...  0.36476139  0.66612149\n",
            "  -0.07812251]\n",
            " [-0.4119684  -0.1344911  -0.11527191 ... -0.03480938 -1.3763055\n",
            "   0.81168674]\n",
            " [-0.4119684  -0.1344911   8.6751406  ... -0.05700776  0.36826756\n",
            "  -0.12945766]]\n"
          ],
          "name": "stdout"
        }
      ]
    },
    {
      "cell_type": "code",
      "metadata": {
        "colab": {
          "base_uri": "https://localhost:8080/"
        },
        "id": "GmkxTBTujMYm",
        "outputId": "68d8923f-c178-450b-e51b-6a41af3ae4a2"
      },
      "source": [
        "from sklearn.linear_model import LogisticRegression\r\n",
        "classifier1 = LogisticRegression(random_state = 0)\r\n",
        "classifier1.fit(X_train, y_train)"
      ],
      "execution_count": 199,
      "outputs": [
        {
          "output_type": "execute_result",
          "data": {
            "text/plain": [
              "LogisticRegression(C=1.0, class_weight=None, dual=False, fit_intercept=True,\n",
              "                   intercept_scaling=1, l1_ratio=None, max_iter=100,\n",
              "                   multi_class='auto', n_jobs=None, penalty='l2',\n",
              "                   random_state=0, solver='lbfgs', tol=0.0001, verbose=0,\n",
              "                   warm_start=False)"
            ]
          },
          "metadata": {
            "tags": []
          },
          "execution_count": 199
        }
      ]
    },
    {
      "cell_type": "code",
      "metadata": {
        "colab": {
          "base_uri": "https://localhost:8080/"
        },
        "id": "_rS1a3RIjX52",
        "outputId": "ce84f35b-20d6-425c-ce0c-6d1366c55792"
      },
      "source": [
        "y_pred1 = classifier1.predict(X_test)\r\n",
        "print(np.concatenate((y_pred1.reshape(len(y_pred1),1), y_test.reshape(len(y_test),1)),1))"
      ],
      "execution_count": 200,
      "outputs": [
        {
          "output_type": "stream",
          "text": [
            "[[0 0]\n",
            " [0 0]\n",
            " [0 0]\n",
            " ...\n",
            " [0 0]\n",
            " [0 0]\n",
            " [0 0]]\n"
          ],
          "name": "stdout"
        }
      ]
    },
    {
      "cell_type": "code",
      "metadata": {
        "colab": {
          "base_uri": "https://localhost:8080/"
        },
        "id": "1RId4mQujbRO",
        "outputId": "f5e001d3-9ad8-43b1-ff86-f6935269a4ca"
      },
      "source": [
        "from sklearn.metrics import confusion_matrix, accuracy_score\r\n",
        "cm = confusion_matrix(y_test, y_pred1)\r\n",
        "print(cm)\r\n",
        "a=accuracy_score(y_test, y_pred1)\r\n",
        "a\r\n"
      ],
      "execution_count": 201,
      "outputs": [
        {
          "output_type": "stream",
          "text": [
            "[[714   9]\n",
            " [ 21  44]]\n"
          ],
          "name": "stdout"
        },
        {
          "output_type": "execute_result",
          "data": {
            "text/plain": [
              "0.9619289340101523"
            ]
          },
          "metadata": {
            "tags": []
          },
          "execution_count": 201
        }
      ]
    },
    {
      "cell_type": "code",
      "metadata": {
        "colab": {
          "base_uri": "https://localhost:8080/",
          "height": 283
        },
        "id": "mEnlsNg1kHrq",
        "outputId": "bd9f3616-b6a8-4b75-d510-a4bf4ae41179"
      },
      "source": [
        "sns.heatmap(cm, annot=True)"
      ],
      "execution_count": 202,
      "outputs": [
        {
          "output_type": "execute_result",
          "data": {
            "text/plain": [
              "<matplotlib.axes._subplots.AxesSubplot at 0x7f8cd193ceb8>"
            ]
          },
          "metadata": {
            "tags": []
          },
          "execution_count": 202
        },
        {
          "output_type": "display_data",
          "data": {
            "image/png": "[encoded data removed]",
            "text/plain": [
              "<Figure size 432x288 with 2 Axes>"
            ]
          },
          "metadata": {
            "tags": [],
            "needs_background": "light"
          }
        }
      ]
    },
    {
      "cell_type": "code",
      "metadata": {
        "colab": {
          "base_uri": "https://localhost:8080/"
        },
        "id": "ajk8ZFaKlSCJ",
        "outputId": "9d137b8a-f2ce-4555-be30-79ede6f79761"
      },
      "source": [
        "from sklearn.neighbors import KNeighborsClassifier\r\n",
        "classifier2 = KNeighborsClassifier(n_neighbors = 5, metric = 'minkowski', p = 2)\r\n",
        "classifier2.fit(X_train, y_train)"
      ],
      "execution_count": 203,
      "outputs": [
        {
          "output_type": "execute_result",
          "data": {
            "text/plain": [
              "KNeighborsClassifier(algorithm='auto', leaf_size=30, metric='minkowski',\n",
              "                     metric_params=None, n_jobs=None, n_neighbors=5, p=2,\n",
              "                     weights='uniform')"
            ]
          },
          "metadata": {
            "tags": []
          },
          "execution_count": 203
        }
      ]
    },
    {
      "cell_type": "code",
      "metadata": {
        "colab": {
          "base_uri": "https://localhost:8080/"
        },
        "id": "w-xQgK7RlR-j",
        "outputId": "3a65d9d0-8946-42b5-fbc8-630212aebac8"
      },
      "source": [
        "y_pred2 = classifier2.predict(X_test)\r\n",
        "print(np.concatenate((y_pred2.reshape(len(y_pred2),1), y_test.reshape(len(y_test),1)),1))"
      ],
      "execution_count": 204,
      "outputs": [
        {
          "output_type": "stream",
          "text": [
            "[[0 0]\n",
            " [0 0]\n",
            " [0 0]\n",
            " ...\n",
            " [0 0]\n",
            " [0 0]\n",
            " [0 0]]\n"
          ],
          "name": "stdout"
        }
      ]
    },
    {
      "cell_type": "code",
      "metadata": {
        "colab": {
          "base_uri": "https://localhost:8080/",
          "height": 283
        },
        "id": "7LiKJyJ4mU4g",
        "outputId": "6c96d602-8169-4c17-fb1b-e9b8e1ca8368"
      },
      "source": [
        "from sklearn.metrics import confusion_matrix, accuracy_score\r\n",
        "cm2 = confusion_matrix(y_test, y_pred2)\r\n",
        "sns.heatmap(cm2, annot=True)\r\n",
        "b=accuracy_score(y_test, y_pred2)\r\n",
        "b"
      ],
      "execution_count": 205,
      "outputs": [
        {
          "output_type": "execute_result",
          "data": {
            "text/plain": [
              "0.9555837563451777"
            ]
          },
          "metadata": {
            "tags": []
          },
          "execution_count": 205
        },
        {
          "output_type": "display_data",
          "data": {
            "image/png": "[encoded data removed]",
            "text/plain": [
              "<Figure size 432x288 with 2 Axes>"
            ]
          },
          "metadata": {
            "tags": [],
            "needs_background": "light"
          }
        }
      ]
    },
    {
      "cell_type": "code",
      "metadata": {
        "colab": {
          "base_uri": "https://localhost:8080/"
        },
        "id": "cLQZoxwGmiky",
        "outputId": "7d6425d0-b118-46ce-ed31-68013c5af746"
      },
      "source": [
        "from sklearn.svm import SVC\r\n",
        "classifier3 = SVC(kernel = 'rbf', random_state = 0)\r\n",
        "classifier3.fit(X_train, y_train)"
      ],
      "execution_count": 206,
      "outputs": [
        {
          "output_type": "execute_result",
          "data": {
            "text/plain": [
              "SVC(C=1.0, break_ties=False, cache_size=200, class_weight=None, coef0=0.0,\n",
              "    decision_function_shape='ovr', degree=3, gamma='scale', kernel='rbf',\n",
              "    max_iter=-1, probability=False, random_state=0, shrinking=True, tol=0.001,\n",
              "    verbose=False)"
            ]
          },
          "metadata": {
            "tags": []
          },
          "execution_count": 206
        }
      ]
    },
    {
      "cell_type": "code",
      "metadata": {
        "colab": {
          "base_uri": "https://localhost:8080/"
        },
        "id": "02Chg8wYmiZG",
        "outputId": "11c91578-493f-4f4c-91b7-f52c072747c3"
      },
      "source": [
        "y_pred3 = classifier3.predict(X_test)\r\n",
        "print(np.concatenate((y_pred3.reshape(len(y_pred3),1), y_test.reshape(len(y_test),1)),1))"
      ],
      "execution_count": 207,
      "outputs": [
        {
          "output_type": "stream",
          "text": [
            "[[0 0]\n",
            " [0 0]\n",
            " [0 0]\n",
            " ...\n",
            " [0 0]\n",
            " [0 0]\n",
            " [0 0]]\n"
          ],
          "name": "stdout"
        }
      ]
    },
    {
      "cell_type": "code",
      "metadata": {
        "colab": {
          "base_uri": "https://localhost:8080/",
          "height": 283
        },
        "id": "zhdvt-kum8ZA",
        "outputId": "6a085f98-4793-49b9-bf5c-74185466fd19"
      },
      "source": [
        "from sklearn.metrics import confusion_matrix, accuracy_score\r\n",
        "cm3 = confusion_matrix(y_test, y_pred3)\r\n",
        "sns.heatmap(cm3, annot=True)\r\n",
        "c=accuracy_score(y_test, y_pred3)\r\n",
        "c"
      ],
      "execution_count": 208,
      "outputs": [
        {
          "output_type": "execute_result",
          "data": {
            "text/plain": [
              "0.9543147208121827"
            ]
          },
          "metadata": {
            "tags": []
          },
          "execution_count": 208
        },
        {
          "output_type": "display_data",
          "data": {
            "image/png": "[encoded data removed]",
            "text/plain": [
              "<Figure size 432x288 with 2 Axes>"
            ]
          },
          "metadata": {
            "tags": [],
            "needs_background": "light"
          }
        }
      ]
    },
    {
      "cell_type": "code",
      "metadata": {
        "colab": {
          "base_uri": "https://localhost:8080/"
        },
        "id": "iI39TKOUnO1k",
        "outputId": "acc1b404-d49d-4291-c51d-8ab1ffab2232"
      },
      "source": [
        "from sklearn.ensemble import RandomForestClassifier\r\n",
        "classifier4 = RandomForestClassifier(n_estimators = 10, criterion = 'entropy', random_state = 0)\r\n",
        "classifier4.fit(X_train, y_train)"
      ],
      "execution_count": 209,
      "outputs": [
        {
          "output_type": "execute_result",
          "data": {
            "text/plain": [
              "RandomForestClassifier(bootstrap=True, ccp_alpha=0.0, class_weight=None,\n",
              "                       criterion='entropy', max_depth=None, max_features='auto',\n",
              "                       max_leaf_nodes=None, max_samples=None,\n",
              "                       min_impurity_decrease=0.0, min_impurity_split=None,\n",
              "                       min_samples_leaf=1, min_samples_split=2,\n",
              "                       min_weight_fraction_leaf=0.0, n_estimators=10,\n",
              "                       n_jobs=None, oob_score=False, random_state=0, verbose=0,\n",
              "                       warm_start=False)"
            ]
          },
          "metadata": {
            "tags": []
          },
          "execution_count": 209
        }
      ]
    },
    {
      "cell_type": "code",
      "metadata": {
        "colab": {
          "base_uri": "https://localhost:8080/"
        },
        "id": "MiTT2p5MnOvU",
        "outputId": "408db659-133c-4b41-ba18-88a55294795a"
      },
      "source": [
        "y_pred4 = classifier4.predict(X_test)\r\n",
        "print(np.concatenate((y_pred4.reshape(len(y_pred4),1), y_test.reshape(len(y_test),1)),1))"
      ],
      "execution_count": 210,
      "outputs": [
        {
          "output_type": "stream",
          "text": [
            "[[0 0]\n",
            " [0 0]\n",
            " [0 0]\n",
            " ...\n",
            " [0 0]\n",
            " [0 0]\n",
            " [0 0]]\n"
          ],
          "name": "stdout"
        }
      ]
    },
    {
      "cell_type": "code",
      "metadata": {
        "colab": {
          "base_uri": "https://localhost:8080/",
          "height": 283
        },
        "id": "cvkG8vIJnOmi",
        "outputId": "d3a0c976-aeec-440c-835f-720b7d5337ea"
      },
      "source": [
        "from sklearn.metrics import confusion_matrix, accuracy_score\r\n",
        "cm4 = confusion_matrix(y_test, y_pred4)\r\n",
        "sns.heatmap(cm4, annot=True)\r\n",
        "d=accuracy_score(y_test, y_pred4)\r\n",
        "print(d)"
      ],
      "execution_count": 211,
      "outputs": [
        {
          "output_type": "stream",
          "text": [
            "0.9746192893401016\n"
          ],
          "name": "stdout"
        },
        {
          "output_type": "display_data",
          "data": {
            "image/png": "[encoded data removed]",
            "text/plain": [
              "<Figure size 432x288 with 2 Axes>"
            ]
          },
          "metadata": {
            "tags": [],
            "needs_background": "light"
          }
        }
      ]
    },
    {
      "cell_type": "code",
      "metadata": {
        "colab": {
          "base_uri": "https://localhost:8080/"
        },
        "id": "BnRJhiSWn5yn",
        "outputId": "47b25070-ddd6-4f4d-b8d6-460035f79182"
      },
      "source": [
        "from sklearn.naive_bayes import GaussianNB\r\n",
        "classifier5 = GaussianNB()\r\n",
        "classifier5.fit(X_train, y_train)"
      ],
      "execution_count": 212,
      "outputs": [
        {
          "output_type": "execute_result",
          "data": {
            "text/plain": [
              "GaussianNB(priors=None, var_smoothing=1e-09)"
            ]
          },
          "metadata": {
            "tags": []
          },
          "execution_count": 212
        }
      ]
    },
    {
      "cell_type": "code",
      "metadata": {
        "colab": {
          "base_uri": "https://localhost:8080/",
          "height": 287
        },
        "id": "lS7Cq0ZkpXqb",
        "outputId": "505259a8-c219-4835-e1ac-1f02a1970b9d"
      },
      "source": [
        "from sklearn.metrics import confusion_matrix, accuracy_score\r\n",
        "y_pred5 = classifier5.predict(X_test)\r\n",
        "cm5 = confusion_matrix(y_test, y_pred5)\r\n",
        "sns.heatmap(cm5,annot=True)\r\n",
        "e=accuracy_score(y_test, y_pred5)\r\n",
        "e"
      ],
      "execution_count": 213,
      "outputs": [
        {
          "output_type": "execute_result",
          "data": {
            "text/plain": [
              "0.3629441624365482"
            ]
          },
          "metadata": {
            "tags": []
          },
          "execution_count": 213
        },
        {
          "output_type": "display_data",
          "data": {
            "image/png": "[encoded data removed]",
            "text/plain": [
              "<Figure size 432x288 with 2 Axes>"
            ]
          },
          "metadata": {
            "tags": [],
            "needs_background": "light"
          }
        }
      ]
    },
    {
      "cell_type": "code",
      "metadata": {
        "colab": {
          "base_uri": "https://localhost:8080/",
          "height": 194
        },
        "id": "eQr9zuzZpyO7",
        "outputId": "f5a0f9fb-07a5-4fd9-9a8d-21dcfb90296c"
      },
      "source": [
        "data = [a,b,c,d,e]\r\n",
        "index = ['Logistic Regression', 'KNeighborsClassifier', 'Kernel SVC', 'RandomForestClassifier', 'Naive Bayes']\r\n",
        "pd.DataFrame(data, index=index, columns=['Scores']).sort_values(ascending = False, by=['Scores'])"
      ],
      "execution_count": 214,
      "outputs": [
        {
          "output_type": "execute_result",
          "data": {
            "text/html": [
              "<div>\n",
              "<style scoped>\n",
              "    .dataframe tbody tr th:only-of-type {\n",
              "        vertical-align: middle;\n",
              "    }\n",
              "\n",
              "    .dataframe tbody tr th {\n",
              "        vertical-align: top;\n",
              "    }\n",
              "\n",
              "    .dataframe thead th {\n",
              "        text-align: right;\n",
              "    }\n",
              "</style>\n",
              "<table border=\"1\" class=\"dataframe\">\n",
              "  <thead>\n",
              "    <tr style=\"text-align: right;\">\n",
              "      <th></th>\n",
              "      <th>Scores</th>\n",
              "    </tr>\n",
              "  </thead>\n",
              "  <tbody>\n",
              "    <tr>\n",
              "      <th>RandomForestClassifier</th>\n",
              "      <td>0.974619</td>\n",
              "    </tr>\n",
              "    <tr>\n",
              "      <th>Logistic Regression</th>\n",
              "      <td>0.961929</td>\n",
              "    </tr>\n",
              "    <tr>\n",
              "      <th>KNeighborsClassifier</th>\n",
              "      <td>0.955584</td>\n",
              "    </tr>\n",
              "    <tr>\n",
              "      <th>Kernel SVC</th>\n",
              "      <td>0.954315</td>\n",
              "    </tr>\n",
              "    <tr>\n",
              "      <th>Naive Bayes</th>\n",
              "      <td>0.362944</td>\n",
              "    </tr>\n",
              "  </tbody>\n",
              "</table>\n",
              "</div>"
            ],
            "text/plain": [
              "                          Scores\n",
              "RandomForestClassifier  0.974619\n",
              "Logistic Regression     0.961929\n",
              "KNeighborsClassifier    0.955584\n",
              "Kernel SVC              0.954315\n",
              "Naive Bayes             0.362944"
            ]
          },
          "metadata": {
            "tags": []
          },
          "execution_count": 214
        }
      ]
    },
    {
      "cell_type": "code",
      "metadata": {
        "id": "LhmkJq1FAF4X"
      },
      "source": [
        "from imblearn.over_sampling import RandomOverSampler"
      ],
      "execution_count": 215,
      "outputs": []
    },
    {
      "cell_type": "code",
      "metadata": {
        "id": "fKGbbKzQAFuq"
      },
      "source": [
        "os=RandomOverSampler(0.75)\r\n",
        "X_train_ns,y_train_ns=os.fit_sample(X_train,y_train)\r\n"
      ],
      "execution_count": 216,
      "outputs": []
    },
    {
      "cell_type": "code",
      "metadata": {
        "colab": {
          "base_uri": "https://localhost:8080/"
        },
        "id": "zizHizCoxfEU",
        "outputId": "5ed0dcd1-9375-4673-e15b-9d8399fd954b"
      },
      "source": [
        "pip install -U keras-tuner"
      ],
      "execution_count": 217,
      "outputs": [
        {
          "output_type": "stream",
          "text": [
            "Requirement already up-to-date: keras-tuner in /usr/local/lib/python3.6/dist-packages (1.0.2)\n",
            "Requirement already satisfied, skipping upgrade: tqdm in /usr/local/lib/python3.6/dist-packages (from keras-tuner) (4.41.1)\n",
            "Requirement already satisfied, skipping upgrade: terminaltables in /usr/local/lib/python3.6/dist-packages (from keras-tuner) (3.1.0)\n",
            "Requirement already satisfied, skipping upgrade: tabulate in /usr/local/lib/python3.6/dist-packages (from keras-tuner) (0.8.7)\n",
            "Requirement already satisfied, skipping upgrade: requests in /usr/local/lib/python3.6/dist-packages (from keras-tuner) (2.23.0)\n",
            "Requirement already satisfied, skipping upgrade: future in /usr/local/lib/python3.6/dist-packages (from keras-tuner) (0.16.0)\n",
            "Requirement already satisfied, skipping upgrade: scikit-learn in /usr/local/lib/python3.6/dist-packages (from keras-tuner) (0.22.2.post1)\n",
            "Requirement already satisfied, skipping upgrade: colorama in /usr/local/lib/python3.6/dist-packages (from keras-tuner) (0.4.4)\n",
            "Requirement already satisfied, skipping upgrade: numpy in /usr/local/lib/python3.6/dist-packages (from keras-tuner) (1.19.5)\n",
            "Requirement already satisfied, skipping upgrade: scipy in /usr/local/lib/python3.6/dist-packages (from keras-tuner) (1.4.1)\n",
            "Requirement already satisfied, skipping upgrade: packaging in /usr/local/lib/python3.6/dist-packages (from keras-tuner) (20.8)\n",
            "Requirement already satisfied, skipping upgrade: chardet<4,>=3.0.2 in /usr/local/lib/python3.6/dist-packages (from requests->keras-tuner) (3.0.4)\n",
            "Requirement already satisfied, skipping upgrade: idna<3,>=2.5 in /usr/local/lib/python3.6/dist-packages (from requests->keras-tuner) (2.10)\n",
            "Requirement already satisfied, skipping upgrade: certifi>=2017.4.17 in /usr/local/lib/python3.6/dist-packages (from requests->keras-tuner) (2020.12.5)\n",
            "Requirement already satisfied, skipping upgrade: urllib3!=1.25.0,!=1.25.1,<1.26,>=1.21.1 in /usr/local/lib/python3.6/dist-packages (from requests->keras-tuner) (1.24.3)\n",
            "Requirement already satisfied, skipping upgrade: joblib>=0.11 in /usr/local/lib/python3.6/dist-packages (from scikit-learn->keras-tuner) (1.0.0)\n",
            "Requirement already satisfied, skipping upgrade: pyparsing>=2.0.2 in /usr/local/lib/python3.6/dist-packages (from packaging->keras-tuner) (2.4.7)\n"
          ],
          "name": "stdout"
        }
      ]
    },
    {
      "cell_type": "code",
      "metadata": {
        "id": "2d66Oy74sHgm"
      },
      "source": [
        "from tensorflow import keras\r\n",
        "from tensorflow.keras import layers\r\n",
        "from kerastuner.tuners import RandomSearch"
      ],
      "execution_count": 218,
      "outputs": []
    },
    {
      "cell_type": "code",
      "metadata": {
        "id": "9TJ0GzZjsj_c"
      },
      "source": [
        "def build_model(hp):\r\n",
        "    model = keras.Sequential()\r\n",
        "    for i in range(hp.Int('num_layers', 2, 20)):\r\n",
        "        model.add(layers.Dense(units=hp.Int('units_' + str(i),\r\n",
        "                                            min_value=32,\r\n",
        "                                            max_value=512,\r\n",
        "                                            step=32),\r\n",
        "                               activation='relu'))\r\n",
        "    model.add(layers.Dense(1, activation='sigmoid'))\r\n",
        "    model.compile(\r\n",
        "        optimizer=keras.optimizers.Adam(\r\n",
        "            hp.Choice('learning_rate', [1e-2, 1e-3, 1e-4])),\r\n",
        "        loss='binary_crossentropy',\r\n",
        "        metrics=['accuracy'])\r\n",
        "    return model"
      ],
      "execution_count": 219,
      "outputs": []
    },
    {
      "cell_type": "code",
      "metadata": {
        "colab": {
          "base_uri": "https://localhost:8080/"
        },
        "id": "mNj6O3WFsjs1",
        "outputId": "67baedb4-8d79-48da-c2fd-8d10ade971a0"
      },
      "source": [
        "tuner = RandomSearch(\r\n",
        "    build_model,\r\n",
        "    objective='val_accuracy',\r\n",
        "    max_trials=5,\r\n",
        "    executions_per_trial=2,\r\n",
        "    directory='project',\r\n",
        "    project_name='Thyroid')"
      ],
      "execution_count": 220,
      "outputs": [
        {
          "output_type": "stream",
          "text": [
            "INFO:tensorflow:Reloading Oracle from existing project project/Thyroid/oracle.json\n",
            "INFO:tensorflow:Reloading Tuner from project/Thyroid/tuner0.json\n"
          ],
          "name": "stdout"
        }
      ]
    },
    {
      "cell_type": "code",
      "metadata": {
        "colab": {
          "base_uri": "https://localhost:8080/"
        },
        "id": "n5M3pqI_xhSr",
        "outputId": "7324aa14-438e-4ff8-872c-ed1532c1db2e"
      },
      "source": [
        "tuner.search_space_summary()"
      ],
      "execution_count": 221,
      "outputs": [
        {
          "output_type": "stream",
          "text": [
            "Search space summary\n",
            "Default search space size: 20\n",
            "num_layers (Int)\n",
            "{'default': None, 'conditions': [], 'min_value': 2, 'max_value': 20, 'step': 1, 'sampling': None}\n",
            "units_0 (Int)\n",
            "{'default': None, 'conditions': [], 'min_value': 32, 'max_value': 512, 'step': 32, 'sampling': None}\n",
            "units_1 (Int)\n",
            "{'default': None, 'conditions': [], 'min_value': 32, 'max_value': 512, 'step': 32, 'sampling': None}\n",
            "learning_rate (Choice)\n",
            "{'default': 0.01, 'conditions': [], 'values': [0.01, 0.001, 0.0001], 'ordered': True}\n",
            "units_2 (Int)\n",
            "{'default': None, 'conditions': [], 'min_value': 32, 'max_value': 512, 'step': 32, 'sampling': None}\n",
            "units_3 (Int)\n",
            "{'default': None, 'conditions': [], 'min_value': 32, 'max_value': 512, 'step': 32, 'sampling': None}\n",
            "units_4 (Int)\n",
            "{'default': None, 'conditions': [], 'min_value': 32, 'max_value': 512, 'step': 32, 'sampling': None}\n",
            "units_5 (Int)\n",
            "{'default': None, 'conditions': [], 'min_value': 32, 'max_value': 512, 'step': 32, 'sampling': None}\n",
            "units_6 (Int)\n",
            "{'default': None, 'conditions': [], 'min_value': 32, 'max_value': 512, 'step': 32, 'sampling': None}\n",
            "units_7 (Int)\n",
            "{'default': None, 'conditions': [], 'min_value': 32, 'max_value': 512, 'step': 32, 'sampling': None}\n",
            "units_8 (Int)\n",
            "{'default': None, 'conditions': [], 'min_value': 32, 'max_value': 512, 'step': 32, 'sampling': None}\n",
            "units_9 (Int)\n",
            "{'default': None, 'conditions': [], 'min_value': 32, 'max_value': 512, 'step': 32, 'sampling': None}\n",
            "units_10 (Int)\n",
            "{'default': None, 'conditions': [], 'min_value': 32, 'max_value': 512, 'step': 32, 'sampling': None}\n",
            "units_11 (Int)\n",
            "{'default': None, 'conditions': [], 'min_value': 32, 'max_value': 512, 'step': 32, 'sampling': None}\n",
            "units_12 (Int)\n",
            "{'default': None, 'conditions': [], 'min_value': 32, 'max_value': 512, 'step': 32, 'sampling': None}\n",
            "units_13 (Int)\n",
            "{'default': None, 'conditions': [], 'min_value': 32, 'max_value': 512, 'step': 32, 'sampling': None}\n",
            "units_14 (Int)\n",
            "{'default': None, 'conditions': [], 'min_value': 32, 'max_value': 512, 'step': 32, 'sampling': None}\n",
            "units_15 (Int)\n",
            "{'default': None, 'conditions': [], 'min_value': 32, 'max_value': 512, 'step': 32, 'sampling': None}\n",
            "units_16 (Int)\n",
            "{'default': None, 'conditions': [], 'min_value': 32, 'max_value': 512, 'step': 32, 'sampling': None}\n",
            "units_17 (Int)\n",
            "{'default': None, 'conditions': [], 'min_value': 32, 'max_value': 512, 'step': 32, 'sampling': None}\n"
          ],
          "name": "stdout"
        }
      ]
    },
    {
      "cell_type": "code",
      "metadata": {
        "colab": {
          "base_uri": "https://localhost:8080/"
        },
        "id": "Fc9o5zBjyErp",
        "outputId": "7c0120f8-3d51-45e0-cf76-1ec13a8a112b"
      },
      "source": [
        "tuner.search(X_train_ns, y_train_ns,\r\n",
        "             epochs=2,\r\n",
        "             validation_data=(X_test, y_test))"
      ],
      "execution_count": 222,
      "outputs": [
        {
          "output_type": "stream",
          "text": [
            "INFO:tensorflow:Oracle triggered exit\n"
          ],
          "name": "stdout"
        }
      ]
    },
    {
      "cell_type": "code",
      "metadata": {
        "colab": {
          "base_uri": "https://localhost:8080/"
        },
        "id": "-mOItkVwyHE9",
        "outputId": "6c35e8b5-18f9-423e-bae1-035a30a18f57"
      },
      "source": [
        "tuner.results_summary()"
      ],
      "execution_count": 223,
      "outputs": [
        {
          "output_type": "stream",
          "text": [
            "Results summary\n",
            "Results in project/Thyroid\n",
            "Showing 10 best trials\n",
            "Objective(name='val_accuracy', direction='max')\n",
            "Trial summary\n",
            "Hyperparameters:\n",
            "num_layers: 13\n",
            "units_0: 288\n",
            "units_1: 448\n",
            "learning_rate: 0.001\n",
            "units_2: 192\n",
            "units_3: 320\n",
            "units_4: 416\n",
            "units_5: 96\n",
            "units_6: 352\n",
            "units_7: 128\n",
            "units_8: 128\n",
            "units_9: 384\n",
            "units_10: 448\n",
            "units_11: 352\n",
            "units_12: 288\n",
            "Score: 0.9530456960201263\n",
            "Trial summary\n",
            "Hyperparameters:\n",
            "num_layers: 13\n",
            "units_0: 160\n",
            "units_1: 64\n",
            "learning_rate: 0.001\n",
            "units_2: 32\n",
            "units_3: 32\n",
            "units_4: 32\n",
            "units_5: 32\n",
            "units_6: 32\n",
            "units_7: 32\n",
            "units_8: 32\n",
            "units_9: 32\n",
            "units_10: 32\n",
            "units_11: 32\n",
            "units_12: 32\n",
            "Score: 0.9447969496250153\n",
            "Trial summary\n",
            "Hyperparameters:\n",
            "num_layers: 18\n",
            "units_0: 448\n",
            "units_1: 224\n",
            "learning_rate: 0.001\n",
            "units_2: 384\n",
            "units_3: 416\n",
            "units_4: 96\n",
            "units_5: 480\n",
            "units_6: 448\n",
            "units_7: 480\n",
            "units_8: 160\n",
            "units_9: 320\n",
            "units_10: 384\n",
            "units_11: 416\n",
            "units_12: 352\n",
            "units_13: 32\n",
            "units_14: 32\n",
            "units_15: 32\n",
            "units_16: 32\n",
            "units_17: 32\n",
            "Score: 0.942258894443512\n",
            "Trial summary\n",
            "Hyperparameters:\n",
            "num_layers: 18\n",
            "units_0: 416\n",
            "units_1: 352\n",
            "learning_rate: 0.01\n",
            "units_2: 384\n",
            "units_3: 384\n",
            "units_4: 448\n",
            "units_5: 416\n",
            "units_6: 320\n",
            "units_7: 288\n",
            "units_8: 96\n",
            "units_9: 480\n",
            "units_10: 320\n",
            "units_11: 160\n",
            "units_12: 512\n",
            "units_13: 320\n",
            "units_14: 352\n",
            "units_15: 64\n",
            "units_16: 160\n",
            "units_17: 192\n",
            "Score: 0.9175127148628235\n",
            "Trial summary\n",
            "Hyperparameters:\n",
            "num_layers: 3\n",
            "units_0: 384\n",
            "units_1: 224\n",
            "learning_rate: 0.0001\n",
            "units_2: 224\n",
            "units_3: 192\n",
            "units_4: 64\n",
            "units_5: 224\n",
            "units_6: 256\n",
            "units_7: 352\n",
            "units_8: 32\n",
            "units_9: 480\n",
            "units_10: 128\n",
            "units_11: 480\n",
            "units_12: 224\n",
            "Score: 0.9143401086330414\n"
          ],
          "name": "stdout"
        }
      ]
    },
    {
      "cell_type": "code",
      "metadata": {
        "id": "FTAjZe6VMfvv"
      },
      "source": [
        "import numpy as np\r\n",
        "import pandas as pd\r\n",
        "import scipy as sc\r\n",
        "import seaborn as sns\r\n",
        "import warnings\r\n",
        "import matplotlib.pyplot as plt\r\n",
        "from scipy import stats\r\n",
        "%matplotlib inline\r\n",
        "import tensorflow as tf\r\n",
        "\r\n",
        "from sklearn import metrics\r\n",
        "from sklearn import preprocessing\r\n",
        "\r\n",
        "\r\n",
        "warnings.filterwarnings('ignore')"
      ],
      "execution_count": 224,
      "outputs": []
    },
    {
      "cell_type": "code",
      "metadata": {
        "id": "269_F2uvMfmT",
        "colab": {
          "base_uri": "https://localhost:8080/",
          "height": 214
        },
        "outputId": "63810c4a-2f3d-4c60-b730-459ed4ed1ac0"
      },
      "source": [
        "dataset = pd.read_csv('full_dataset.csv')\r\n",
        "dataset.head()"
      ],
      "execution_count": 225,
      "outputs": [
        {
          "output_type": "execute_result",
          "data": {
            "text/html": [
              "<div>\n",
              "<style scoped>\n",
              "    .dataframe tbody tr th:only-of-type {\n",
              "        vertical-align: middle;\n",
              "    }\n",
              "\n",
              "    .dataframe tbody tr th {\n",
              "        vertical-align: top;\n",
              "    }\n",
              "\n",
              "    .dataframe thead th {\n",
              "        text-align: right;\n",
              "    }\n",
              "</style>\n",
              "<table border=\"1\" class=\"dataframe\">\n",
              "  <thead>\n",
              "    <tr style=\"text-align: right;\">\n",
              "      <th></th>\n",
              "      <th>on_thyroxine</th>\n",
              "      <th>query_on_thyroxine</th>\n",
              "      <th>on_antithyroid_medication</th>\n",
              "      <th>thyroid_surgery</th>\n",
              "      <th>query_hypothyroid</th>\n",
              "      <th>query_hyperthyroid</th>\n",
              "      <th>pregnant</th>\n",
              "      <th>sick</th>\n",
              "      <th>tumor</th>\n",
              "      <th>lithium</th>\n",
              "      <th>goitre</th>\n",
              "      <th>TSH_measured</th>\n",
              "      <th>T3_measured</th>\n",
              "      <th>TT4_measured</th>\n",
              "      <th>T4U_measured</th>\n",
              "      <th>FTI_measured</th>\n",
              "      <th>age</th>\n",
              "      <th>sex</th>\n",
              "      <th>TSH</th>\n",
              "      <th>T3</th>\n",
              "      <th>TT4</th>\n",
              "      <th>T4U</th>\n",
              "      <th>FTI</th>\n",
              "      <th>classes</th>\n",
              "    </tr>\n",
              "  </thead>\n",
              "  <tbody>\n",
              "    <tr>\n",
              "      <th>0</th>\n",
              "      <td>0</td>\n",
              "      <td>0</td>\n",
              "      <td>0</td>\n",
              "      <td>0</td>\n",
              "      <td>0</td>\n",
              "      <td>0</td>\n",
              "      <td>0</td>\n",
              "      <td>0</td>\n",
              "      <td>0</td>\n",
              "      <td>0</td>\n",
              "      <td>0</td>\n",
              "      <td>1</td>\n",
              "      <td>1</td>\n",
              "      <td>1</td>\n",
              "      <td>1</td>\n",
              "      <td>1</td>\n",
              "      <td>80</td>\n",
              "      <td>1</td>\n",
              "      <td>1.4</td>\n",
              "      <td>0.8</td>\n",
              "      <td>105.0</td>\n",
              "      <td>0.88</td>\n",
              "      <td>120.0</td>\n",
              "      <td>1</td>\n",
              "    </tr>\n",
              "    <tr>\n",
              "      <th>1</th>\n",
              "      <td>0</td>\n",
              "      <td>0</td>\n",
              "      <td>0</td>\n",
              "      <td>0</td>\n",
              "      <td>0</td>\n",
              "      <td>0</td>\n",
              "      <td>0</td>\n",
              "      <td>0</td>\n",
              "      <td>0</td>\n",
              "      <td>0</td>\n",
              "      <td>0</td>\n",
              "      <td>1</td>\n",
              "      <td>1</td>\n",
              "      <td>1</td>\n",
              "      <td>1</td>\n",
              "      <td>1</td>\n",
              "      <td>74</td>\n",
              "      <td>0</td>\n",
              "      <td>0.0</td>\n",
              "      <td>0.7</td>\n",
              "      <td>98.0</td>\n",
              "      <td>0.81</td>\n",
              "      <td>121.0</td>\n",
              "      <td>1</td>\n",
              "    </tr>\n",
              "    <tr>\n",
              "      <th>2</th>\n",
              "      <td>0</td>\n",
              "      <td>0</td>\n",
              "      <td>0</td>\n",
              "      <td>0</td>\n",
              "      <td>0</td>\n",
              "      <td>0</td>\n",
              "      <td>0</td>\n",
              "      <td>0</td>\n",
              "      <td>0</td>\n",
              "      <td>0</td>\n",
              "      <td>0</td>\n",
              "      <td>1</td>\n",
              "      <td>1</td>\n",
              "      <td>1</td>\n",
              "      <td>1</td>\n",
              "      <td>1</td>\n",
              "      <td>32</td>\n",
              "      <td>0</td>\n",
              "      <td>1.4</td>\n",
              "      <td>1.1</td>\n",
              "      <td>121.0</td>\n",
              "      <td>1.11</td>\n",
              "      <td>109.0</td>\n",
              "      <td>1</td>\n",
              "    </tr>\n",
              "    <tr>\n",
              "      <th>3</th>\n",
              "      <td>0</td>\n",
              "      <td>0</td>\n",
              "      <td>0</td>\n",
              "      <td>0</td>\n",
              "      <td>0</td>\n",
              "      <td>0</td>\n",
              "      <td>0</td>\n",
              "      <td>0</td>\n",
              "      <td>0</td>\n",
              "      <td>0</td>\n",
              "      <td>0</td>\n",
              "      <td>1</td>\n",
              "      <td>1</td>\n",
              "      <td>1</td>\n",
              "      <td>1</td>\n",
              "      <td>1</td>\n",
              "      <td>42</td>\n",
              "      <td>0</td>\n",
              "      <td>2.3</td>\n",
              "      <td>1.1</td>\n",
              "      <td>93.0</td>\n",
              "      <td>0.73</td>\n",
              "      <td>127.0</td>\n",
              "      <td>1</td>\n",
              "    </tr>\n",
              "    <tr>\n",
              "      <th>4</th>\n",
              "      <td>0</td>\n",
              "      <td>0</td>\n",
              "      <td>0</td>\n",
              "      <td>0</td>\n",
              "      <td>0</td>\n",
              "      <td>0</td>\n",
              "      <td>0</td>\n",
              "      <td>0</td>\n",
              "      <td>0</td>\n",
              "      <td>0</td>\n",
              "      <td>0</td>\n",
              "      <td>1</td>\n",
              "      <td>1</td>\n",
              "      <td>1</td>\n",
              "      <td>1</td>\n",
              "      <td>1</td>\n",
              "      <td>89</td>\n",
              "      <td>1</td>\n",
              "      <td>0.8</td>\n",
              "      <td>0.8</td>\n",
              "      <td>111.0</td>\n",
              "      <td>0.68</td>\n",
              "      <td>165.0</td>\n",
              "      <td>1</td>\n",
              "    </tr>\n",
              "  </tbody>\n",
              "</table>\n",
              "</div>"
            ],
            "text/plain": [
              "   on_thyroxine  query_on_thyroxine  ...    FTI  classes\n",
              "0             0                   0  ...  120.0        1\n",
              "1             0                   0  ...  121.0        1\n",
              "2             0                   0  ...  109.0        1\n",
              "3             0                   0  ...  127.0        1\n",
              "4             0                   0  ...  165.0        1\n",
              "\n",
              "[5 rows x 24 columns]"
            ]
          },
          "metadata": {
            "tags": []
          },
          "execution_count": 225
        }
      ]
    },
    {
      "cell_type": "code",
      "metadata": {
        "id": "EAbz55Xitx3Z"
      },
      "source": [
        "X = dataset.iloc[:, 0:-1].values\r\n",
        "y = dataset.iloc[:, -1].values"
      ],
      "execution_count": 226,
      "outputs": []
    },
    {
      "cell_type": "code",
      "metadata": {
        "id": "jCeZK4-Tt2A_"
      },
      "source": [
        "from sklearn.model_selection import train_test_split\r\n",
        "X_train, X_test, y_train, y_test = train_test_split(X, y, test_size = 0.25, random_state = 0)"
      ],
      "execution_count": 227,
      "outputs": []
    },
    {
      "cell_type": "code",
      "metadata": {
        "id": "XZ6ML4cpt5V4"
      },
      "source": [
        "from sklearn.preprocessing import StandardScaler\r\n",
        "sc = StandardScaler()\r\n",
        "X_train_ns = sc.fit_transform(X_train)\r\n",
        "X_test = sc.transform(X_test)"
      ],
      "execution_count": 228,
      "outputs": []
    },
    {
      "cell_type": "code",
      "metadata": {
        "id": "Z1vdjghPuBgK"
      },
      "source": [
        "ann = tf.keras.models.Sequential()"
      ],
      "execution_count": 229,
      "outputs": []
    },
    {
      "cell_type": "code",
      "metadata": {
        "id": "IGZnIJWCuDv1"
      },
      "source": [
        "ann.add(tf.keras.layers.Dense(units=32, kernel_initializer = 'he_uniform',activation='relu'))"
      ],
      "execution_count": 230,
      "outputs": []
    },
    {
      "cell_type": "code",
      "metadata": {
        "id": "SShtZChUuGFA"
      },
      "source": [
        "ann.add(tf.keras.layers.Dense(units=64, kernel_initializer = 'he_uniform',activation='relu'))"
      ],
      "execution_count": 231,
      "outputs": []
    },
    {
      "cell_type": "code",
      "metadata": {
        "id": "9sAUEE1WuGBI"
      },
      "source": [
        "ann.add(tf.keras.layers.Dense(units=44, kernel_initializer = 'he_uniform',activation='relu'))"
      ],
      "execution_count": 232,
      "outputs": []
    },
    {
      "cell_type": "code",
      "metadata": {
        "id": "qK4SrJdBuF8T"
      },
      "source": [
        "ann.add(tf.keras.layers.Dense(units=48, kernel_initializer = 'he_uniform',activation='relu'))"
      ],
      "execution_count": 233,
      "outputs": []
    },
    {
      "cell_type": "code",
      "metadata": {
        "id": "gR4V9Al2uF47"
      },
      "source": [
        "ann.add(tf.keras.layers.Dense(units=32, kernel_initializer = 'he_uniform',activation='relu'))"
      ],
      "execution_count": 234,
      "outputs": []
    },
    {
      "cell_type": "code",
      "metadata": {
        "id": "3C21oYw_ue_9"
      },
      "source": [
        "ann.add(tf.keras.layers.Dense(units=32, kernel_initializer = 'he_uniform',activation='relu'))"
      ],
      "execution_count": 235,
      "outputs": []
    },
    {
      "cell_type": "code",
      "metadata": {
        "id": "dFQsCHLTufxG"
      },
      "source": [
        "ann.add(tf.keras.layers.Dense(units=32, kernel_initializer = 'he_uniform',activation='relu'))"
      ],
      "execution_count": 236,
      "outputs": []
    },
    {
      "cell_type": "code",
      "metadata": {
        "id": "c6u51eHTugdC"
      },
      "source": [
        "ann.add(tf.keras.layers.Dense(units=40, kernel_initializer = 'he_uniform',activation='relu'))"
      ],
      "execution_count": 237,
      "outputs": []
    },
    {
      "cell_type": "code",
      "metadata": {
        "id": "Ieb-xCOZuhE0"
      },
      "source": [
        "ann.add(tf.keras.layers.Dense(units=32, kernel_initializer = 'he_uniform',activation='relu'))"
      ],
      "execution_count": 238,
      "outputs": []
    },
    {
      "cell_type": "code",
      "metadata": {
        "id": "QZ6qfHnPulQ7"
      },
      "source": [
        "ann.add(tf.keras.layers.Dense(units=48, kernel_initializer = 'he_uniform',activation='relu'))"
      ],
      "execution_count": 239,
      "outputs": []
    },
    {
      "cell_type": "code",
      "metadata": {
        "id": "qjYT8gBEulLu"
      },
      "source": [
        "ann.add(tf.keras.layers.Dense(units=48, kernel_initializer = 'he_uniform',activation='relu'))"
      ],
      "execution_count": 240,
      "outputs": []
    },
    {
      "cell_type": "code",
      "metadata": {
        "id": "10vk8r0dulII"
      },
      "source": [
        "ann.add(tf.keras.layers.Dense(units=44, kernel_initializer = 'he_uniform',activation='relu'))"
      ],
      "execution_count": 241,
      "outputs": []
    },
    {
      "cell_type": "code",
      "metadata": {
        "id": "8-9xDwXUunDH"
      },
      "source": [
        "ann.add(tf.keras.layers.Dense(units=42, kernel_initializer = 'he_uniform',activation='relu'))"
      ],
      "execution_count": 242,
      "outputs": []
    },
    {
      "cell_type": "code",
      "metadata": {
        "id": "L2o7btm8wQuG"
      },
      "source": [
        "ann.add(tf.keras.layers.Dense(units=48, kernel_initializer = 'he_uniform',activation='relu'))"
      ],
      "execution_count": 243,
      "outputs": []
    },
    {
      "cell_type": "code",
      "metadata": {
        "id": "u8ip0bsZwugn"
      },
      "source": [
        "ann.add(tf.keras.layers.Dense(units=32, kernel_initializer = 'he_uniform',activation='relu'))"
      ],
      "execution_count": 244,
      "outputs": []
    },
    {
      "cell_type": "code",
      "metadata": {
        "id": "jCnNGxczutlV"
      },
      "source": [
        "ann.add(tf.keras.layers.Dense(units=1,kernel_initializer = 'glorot_uniform', activation='sigmoid'))"
      ],
      "execution_count": 245,
      "outputs": []
    },
    {
      "cell_type": "code",
      "metadata": {
        "id": "HBrXBLqIuw5D"
      },
      "source": [
        "ann.compile(optimizer = 'adam', loss = 'binary_crossentropy', metrics = ['accuracy'])"
      ],
      "execution_count": 246,
      "outputs": []
    },
    {
      "cell_type": "code",
      "metadata": {
        "colab": {
          "base_uri": "https://localhost:8080/"
        },
        "id": "9nkRSJO3wI8V",
        "outputId": "dd744999-4238-4eb1-ca2a-72415f16a337"
      },
      "source": [
        "model_history=ann.fit(X_train, y_train, batch_size = 32, epochs = 300)"
      ],
      "execution_count": 247,
      "outputs": [
        {
          "output_type": "stream",
          "text": [
            "Epoch 1/300\n",
            "74/74 [==============================] - 1s 4ms/step - loss: 0.9226 - accuracy: 0.8563\n",
            "Epoch 2/300\n",
            "74/74 [==============================] - 0s 4ms/step - loss: 0.2786 - accuracy: 0.9110\n",
            "Epoch 3/300\n",
            "74/74 [==============================] - 0s 3ms/step - loss: 0.2867 - accuracy: 0.8988\n",
            "Epoch 4/300\n",
            "74/74 [==============================] - 0s 3ms/step - loss: 0.2845 - accuracy: 0.8998\n",
            "Epoch 5/300\n",
            "74/74 [==============================] - 0s 3ms/step - loss: 0.2776 - accuracy: 0.8988\n",
            "Epoch 6/300\n",
            "74/74 [==============================] - 0s 3ms/step - loss: 0.2727 - accuracy: 0.9090\n",
            "Epoch 7/300\n",
            "74/74 [==============================] - 0s 3ms/step - loss: 0.2648 - accuracy: 0.9071\n",
            "Epoch 8/300\n",
            "74/74 [==============================] - 0s 4ms/step - loss: 0.2649 - accuracy: 0.9074\n",
            "Epoch 9/300\n",
            "74/74 [==============================] - 0s 4ms/step - loss: 0.2607 - accuracy: 0.9119\n",
            "Epoch 10/300\n",
            "74/74 [==============================] - 0s 4ms/step - loss: 0.2541 - accuracy: 0.9079\n",
            "Epoch 11/300\n",
            "74/74 [==============================] - 0s 4ms/step - loss: 0.2468 - accuracy: 0.9059\n",
            "Epoch 12/300\n",
            "74/74 [==============================] - 0s 4ms/step - loss: 0.2655 - accuracy: 0.9073\n",
            "Epoch 13/300\n",
            "74/74 [==============================] - 0s 4ms/step - loss: 0.2489 - accuracy: 0.9050\n",
            "Epoch 14/300\n",
            "74/74 [==============================] - 0s 4ms/step - loss: 0.2487 - accuracy: 0.9156\n",
            "Epoch 15/300\n",
            "74/74 [==============================] - 0s 3ms/step - loss: 0.2579 - accuracy: 0.9123\n",
            "Epoch 16/300\n",
            "74/74 [==============================] - 0s 3ms/step - loss: 0.2551 - accuracy: 0.9014\n",
            "Epoch 17/300\n",
            "74/74 [==============================] - 0s 4ms/step - loss: 0.2564 - accuracy: 0.9002\n",
            "Epoch 18/300\n",
            "74/74 [==============================] - 0s 4ms/step - loss: 0.2492 - accuracy: 0.9086\n",
            "Epoch 19/300\n",
            "74/74 [==============================] - 0s 3ms/step - loss: 0.2364 - accuracy: 0.9149\n",
            "Epoch 20/300\n",
            "74/74 [==============================] - 0s 3ms/step - loss: 0.2469 - accuracy: 0.9022\n",
            "Epoch 21/300\n",
            "74/74 [==============================] - 0s 3ms/step - loss: 0.2231 - accuracy: 0.9192\n",
            "Epoch 22/300\n",
            "74/74 [==============================] - 0s 3ms/step - loss: 0.2483 - accuracy: 0.9114\n",
            "Epoch 23/300\n",
            "74/74 [==============================] - 0s 3ms/step - loss: 0.2571 - accuracy: 0.8964\n",
            "Epoch 24/300\n",
            "74/74 [==============================] - 0s 3ms/step - loss: 0.2267 - accuracy: 0.9154\n",
            "Epoch 25/300\n",
            "74/74 [==============================] - 0s 3ms/step - loss: 0.2236 - accuracy: 0.9163\n",
            "Epoch 26/300\n",
            "74/74 [==============================] - 0s 4ms/step - loss: 0.2320 - accuracy: 0.9158\n",
            "Epoch 27/300\n",
            "74/74 [==============================] - 0s 3ms/step - loss: 0.1976 - accuracy: 0.9253\n",
            "Epoch 28/300\n",
            "74/74 [==============================] - 0s 3ms/step - loss: 0.2112 - accuracy: 0.9202\n",
            "Epoch 29/300\n",
            "74/74 [==============================] - 0s 3ms/step - loss: 0.2029 - accuracy: 0.9171\n",
            "Epoch 30/300\n",
            "74/74 [==============================] - 0s 3ms/step - loss: 0.1966 - accuracy: 0.9228\n",
            "Epoch 31/300\n",
            "74/74 [==============================] - 0s 3ms/step - loss: 0.1918 - accuracy: 0.9260\n",
            "Epoch 32/300\n",
            "74/74 [==============================] - 0s 4ms/step - loss: 0.1921 - accuracy: 0.9272\n",
            "Epoch 33/300\n",
            "74/74 [==============================] - 0s 3ms/step - loss: 0.1680 - accuracy: 0.9311\n",
            "Epoch 34/300\n",
            "74/74 [==============================] - 0s 3ms/step - loss: 0.1995 - accuracy: 0.9261\n",
            "Epoch 35/300\n",
            "74/74 [==============================] - 0s 3ms/step - loss: 0.1865 - accuracy: 0.9353\n",
            "Epoch 36/300\n",
            "74/74 [==============================] - 0s 3ms/step - loss: 0.1833 - accuracy: 0.9220\n",
            "Epoch 37/300\n",
            "74/74 [==============================] - 0s 3ms/step - loss: 0.1445 - accuracy: 0.9455\n",
            "Epoch 38/300\n",
            "74/74 [==============================] - 0s 3ms/step - loss: 0.1833 - accuracy: 0.9316\n",
            "Epoch 39/300\n",
            "74/74 [==============================] - 0s 3ms/step - loss: 0.1468 - accuracy: 0.9410\n",
            "Epoch 40/300\n",
            "74/74 [==============================] - 0s 3ms/step - loss: 0.1659 - accuracy: 0.9303\n",
            "Epoch 41/300\n",
            "74/74 [==============================] - 0s 3ms/step - loss: 0.1834 - accuracy: 0.9307\n",
            "Epoch 42/300\n",
            "74/74 [==============================] - 0s 3ms/step - loss: 0.1243 - accuracy: 0.9501\n",
            "Epoch 43/300\n",
            "74/74 [==============================] - 0s 4ms/step - loss: 0.1251 - accuracy: 0.9528\n",
            "Epoch 44/300\n",
            "74/74 [==============================] - 0s 4ms/step - loss: 0.1601 - accuracy: 0.9400\n",
            "Epoch 45/300\n",
            "74/74 [==============================] - 0s 3ms/step - loss: 0.1474 - accuracy: 0.9413\n",
            "Epoch 46/300\n",
            "74/74 [==============================] - 0s 3ms/step - loss: 0.1332 - accuracy: 0.9501\n",
            "Epoch 47/300\n",
            "74/74 [==============================] - 0s 3ms/step - loss: 0.1525 - accuracy: 0.9446\n",
            "Epoch 48/300\n",
            "74/74 [==============================] - 0s 3ms/step - loss: 0.1471 - accuracy: 0.9460\n",
            "Epoch 49/300\n",
            "74/74 [==============================] - 0s 3ms/step - loss: 0.1129 - accuracy: 0.9579\n",
            "Epoch 50/300\n",
            "74/74 [==============================] - 0s 3ms/step - loss: 0.1343 - accuracy: 0.9455\n",
            "Epoch 51/300\n",
            "74/74 [==============================] - 0s 3ms/step - loss: 0.1150 - accuracy: 0.9609\n",
            "Epoch 52/300\n",
            "74/74 [==============================] - 0s 3ms/step - loss: 0.1285 - accuracy: 0.9564\n",
            "Epoch 53/300\n",
            "74/74 [==============================] - 0s 3ms/step - loss: 0.1383 - accuracy: 0.9427\n",
            "Epoch 54/300\n",
            "74/74 [==============================] - 0s 3ms/step - loss: 0.1236 - accuracy: 0.9510\n",
            "Epoch 55/300\n",
            "74/74 [==============================] - 0s 3ms/step - loss: 0.1426 - accuracy: 0.9492\n",
            "Epoch 56/300\n",
            "74/74 [==============================] - 0s 3ms/step - loss: 0.1191 - accuracy: 0.9614\n",
            "Epoch 57/300\n",
            "74/74 [==============================] - 0s 4ms/step - loss: 0.1179 - accuracy: 0.9598\n",
            "Epoch 58/300\n",
            "74/74 [==============================] - 0s 3ms/step - loss: 0.1135 - accuracy: 0.9540\n",
            "Epoch 59/300\n",
            "74/74 [==============================] - 0s 3ms/step - loss: 0.1353 - accuracy: 0.9473\n",
            "Epoch 60/300\n",
            "74/74 [==============================] - 0s 4ms/step - loss: 0.1154 - accuracy: 0.9541\n",
            "Epoch 61/300\n",
            "74/74 [==============================] - 0s 4ms/step - loss: 0.1105 - accuracy: 0.9563\n",
            "Epoch 62/300\n",
            "74/74 [==============================] - 0s 3ms/step - loss: 0.1072 - accuracy: 0.9599\n",
            "Epoch 63/300\n",
            "74/74 [==============================] - 0s 3ms/step - loss: 0.1050 - accuracy: 0.9585\n",
            "Epoch 64/300\n",
            "74/74 [==============================] - 0s 3ms/step - loss: 0.1101 - accuracy: 0.9598\n",
            "Epoch 65/300\n",
            "74/74 [==============================] - 0s 4ms/step - loss: 0.1408 - accuracy: 0.9493\n",
            "Epoch 66/300\n",
            "74/74 [==============================] - 0s 3ms/step - loss: 0.1193 - accuracy: 0.9508\n",
            "Epoch 67/300\n",
            "74/74 [==============================] - 0s 4ms/step - loss: 0.1046 - accuracy: 0.9620\n",
            "Epoch 68/300\n",
            "74/74 [==============================] - 0s 4ms/step - loss: 0.1094 - accuracy: 0.9543\n",
            "Epoch 69/300\n",
            "74/74 [==============================] - 0s 4ms/step - loss: 0.1144 - accuracy: 0.9595\n",
            "Epoch 70/300\n",
            "74/74 [==============================] - 0s 3ms/step - loss: 0.1142 - accuracy: 0.9565\n",
            "Epoch 71/300\n",
            "74/74 [==============================] - 0s 4ms/step - loss: 0.0927 - accuracy: 0.9693\n",
            "Epoch 72/300\n",
            "74/74 [==============================] - 0s 4ms/step - loss: 0.1116 - accuracy: 0.9515\n",
            "Epoch 73/300\n",
            "74/74 [==============================] - 0s 4ms/step - loss: 0.0974 - accuracy: 0.9631\n",
            "Epoch 74/300\n",
            "74/74 [==============================] - 0s 4ms/step - loss: 0.0989 - accuracy: 0.9701\n",
            "Epoch 75/300\n",
            "74/74 [==============================] - 0s 3ms/step - loss: 0.1015 - accuracy: 0.9639\n",
            "Epoch 76/300\n",
            "74/74 [==============================] - 0s 3ms/step - loss: 0.1136 - accuracy: 0.9580\n",
            "Epoch 77/300\n",
            "74/74 [==============================] - 0s 3ms/step - loss: 0.1272 - accuracy: 0.9522\n",
            "Epoch 78/300\n",
            "74/74 [==============================] - 0s 3ms/step - loss: 0.1266 - accuracy: 0.9449\n",
            "Epoch 79/300\n",
            "74/74 [==============================] - 0s 3ms/step - loss: 0.1140 - accuracy: 0.9619\n",
            "Epoch 80/300\n",
            "74/74 [==============================] - 0s 3ms/step - loss: 0.1120 - accuracy: 0.9585\n",
            "Epoch 81/300\n",
            "74/74 [==============================] - 0s 3ms/step - loss: 0.1166 - accuracy: 0.9570\n",
            "Epoch 82/300\n",
            "74/74 [==============================] - 0s 3ms/step - loss: 0.1147 - accuracy: 0.9603\n",
            "Epoch 83/300\n",
            "74/74 [==============================] - 0s 5ms/step - loss: 0.1305 - accuracy: 0.9495\n",
            "Epoch 84/300\n",
            "74/74 [==============================] - 0s 4ms/step - loss: 0.0940 - accuracy: 0.9701\n",
            "Epoch 85/300\n",
            "74/74 [==============================] - 0s 3ms/step - loss: 0.1133 - accuracy: 0.9564\n",
            "Epoch 86/300\n",
            "74/74 [==============================] - 0s 4ms/step - loss: 0.0988 - accuracy: 0.9618\n",
            "Epoch 87/300\n",
            "74/74 [==============================] - 0s 3ms/step - loss: 0.1145 - accuracy: 0.9567\n",
            "Epoch 88/300\n",
            "74/74 [==============================] - 0s 3ms/step - loss: 0.1095 - accuracy: 0.9539\n",
            "Epoch 89/300\n",
            "74/74 [==============================] - 0s 3ms/step - loss: 0.1345 - accuracy: 0.9475\n",
            "Epoch 90/300\n",
            "74/74 [==============================] - 0s 3ms/step - loss: 0.1003 - accuracy: 0.9587\n",
            "Epoch 91/300\n",
            "74/74 [==============================] - 0s 3ms/step - loss: 0.1183 - accuracy: 0.9607\n",
            "Epoch 92/300\n",
            "74/74 [==============================] - 0s 3ms/step - loss: 0.1193 - accuracy: 0.9547\n",
            "Epoch 93/300\n",
            "74/74 [==============================] - 0s 3ms/step - loss: 0.1040 - accuracy: 0.9571\n",
            "Epoch 94/300\n",
            "74/74 [==============================] - 0s 3ms/step - loss: 0.0985 - accuracy: 0.9633\n",
            "Epoch 95/300\n",
            "74/74 [==============================] - 0s 3ms/step - loss: 0.1006 - accuracy: 0.9667\n",
            "Epoch 96/300\n",
            "74/74 [==============================] - 0s 3ms/step - loss: 0.0905 - accuracy: 0.9663\n",
            "Epoch 97/300\n",
            "74/74 [==============================] - 0s 3ms/step - loss: 0.1018 - accuracy: 0.9643\n",
            "Epoch 98/300\n",
            "74/74 [==============================] - 0s 3ms/step - loss: 0.1030 - accuracy: 0.9510\n",
            "Epoch 99/300\n",
            "74/74 [==============================] - 0s 3ms/step - loss: 0.1084 - accuracy: 0.9550\n",
            "Epoch 100/300\n",
            "74/74 [==============================] - 0s 3ms/step - loss: 0.1103 - accuracy: 0.9604\n",
            "Epoch 101/300\n",
            "74/74 [==============================] - 0s 3ms/step - loss: 0.0972 - accuracy: 0.9688\n",
            "Epoch 102/300\n",
            "74/74 [==============================] - 0s 3ms/step - loss: 0.0967 - accuracy: 0.9572\n",
            "Epoch 103/300\n",
            "74/74 [==============================] - 0s 3ms/step - loss: 0.0973 - accuracy: 0.9664\n",
            "Epoch 104/300\n",
            "74/74 [==============================] - 0s 3ms/step - loss: 0.0951 - accuracy: 0.9685\n",
            "Epoch 105/300\n",
            "74/74 [==============================] - 0s 3ms/step - loss: 0.0867 - accuracy: 0.9628\n",
            "Epoch 106/300\n",
            "74/74 [==============================] - 0s 4ms/step - loss: 0.0893 - accuracy: 0.9730\n",
            "Epoch 107/300\n",
            "74/74 [==============================] - 0s 3ms/step - loss: 0.1061 - accuracy: 0.9574\n",
            "Epoch 108/300\n",
            "74/74 [==============================] - 0s 4ms/step - loss: 0.1626 - accuracy: 0.9442\n",
            "Epoch 109/300\n",
            "74/74 [==============================] - 0s 3ms/step - loss: 0.1033 - accuracy: 0.9647\n",
            "Epoch 110/300\n",
            "74/74 [==============================] - 0s 3ms/step - loss: 0.0881 - accuracy: 0.9675\n",
            "Epoch 111/300\n",
            "74/74 [==============================] - 0s 3ms/step - loss: 0.0833 - accuracy: 0.9680\n",
            "Epoch 112/300\n",
            "74/74 [==============================] - 0s 3ms/step - loss: 0.1324 - accuracy: 0.9518\n",
            "Epoch 113/300\n",
            "74/74 [==============================] - 0s 4ms/step - loss: 0.0874 - accuracy: 0.9709\n",
            "Epoch 114/300\n",
            "74/74 [==============================] - 0s 4ms/step - loss: 0.1085 - accuracy: 0.9603\n",
            "Epoch 115/300\n",
            "74/74 [==============================] - 0s 4ms/step - loss: 0.0925 - accuracy: 0.9685\n",
            "Epoch 116/300\n",
            "74/74 [==============================] - 0s 3ms/step - loss: 0.0931 - accuracy: 0.9661\n",
            "Epoch 117/300\n",
            "74/74 [==============================] - 0s 3ms/step - loss: 0.0823 - accuracy: 0.9703\n",
            "Epoch 118/300\n",
            "74/74 [==============================] - 0s 3ms/step - loss: 0.1071 - accuracy: 0.9592\n",
            "Epoch 119/300\n",
            "74/74 [==============================] - 0s 3ms/step - loss: 0.1183 - accuracy: 0.9581\n",
            "Epoch 120/300\n",
            "74/74 [==============================] - 0s 3ms/step - loss: 0.1113 - accuracy: 0.9554\n",
            "Epoch 121/300\n",
            "74/74 [==============================] - 0s 3ms/step - loss: 0.0886 - accuracy: 0.9642\n",
            "Epoch 122/300\n",
            "74/74 [==============================] - 0s 3ms/step - loss: 0.0939 - accuracy: 0.9644\n",
            "Epoch 123/300\n",
            "74/74 [==============================] - 0s 3ms/step - loss: 0.0770 - accuracy: 0.9641\n",
            "Epoch 124/300\n",
            "74/74 [==============================] - 0s 3ms/step - loss: 0.0896 - accuracy: 0.9710\n",
            "Epoch 125/300\n",
            "74/74 [==============================] - 0s 4ms/step - loss: 0.0942 - accuracy: 0.9660\n",
            "Epoch 126/300\n",
            "74/74 [==============================] - 0s 3ms/step - loss: 0.0883 - accuracy: 0.9697\n",
            "Epoch 127/300\n",
            "74/74 [==============================] - 0s 3ms/step - loss: 0.0928 - accuracy: 0.9616\n",
            "Epoch 128/300\n",
            "74/74 [==============================] - 0s 3ms/step - loss: 0.0961 - accuracy: 0.9659\n",
            "Epoch 129/300\n",
            "74/74 [==============================] - 0s 3ms/step - loss: 0.1113 - accuracy: 0.9630\n",
            "Epoch 130/300\n",
            "74/74 [==============================] - 0s 3ms/step - loss: 0.0792 - accuracy: 0.9652\n",
            "Epoch 131/300\n",
            "74/74 [==============================] - 0s 3ms/step - loss: 0.0837 - accuracy: 0.9709\n",
            "Epoch 132/300\n",
            "74/74 [==============================] - 0s 3ms/step - loss: 0.0818 - accuracy: 0.9665\n",
            "Epoch 133/300\n",
            "74/74 [==============================] - 0s 3ms/step - loss: 0.0862 - accuracy: 0.9727\n",
            "Epoch 134/300\n",
            "74/74 [==============================] - 0s 3ms/step - loss: 0.0919 - accuracy: 0.9690\n",
            "Epoch 135/300\n",
            "74/74 [==============================] - 0s 3ms/step - loss: 0.0971 - accuracy: 0.9684\n",
            "Epoch 136/300\n",
            "74/74 [==============================] - 0s 4ms/step - loss: 0.0831 - accuracy: 0.9705\n",
            "Epoch 137/300\n",
            "74/74 [==============================] - 0s 3ms/step - loss: 0.0958 - accuracy: 0.9588\n",
            "Epoch 138/300\n",
            "74/74 [==============================] - 0s 3ms/step - loss: 0.0989 - accuracy: 0.9696\n",
            "Epoch 139/300\n",
            "74/74 [==============================] - 0s 4ms/step - loss: 0.0778 - accuracy: 0.9770\n",
            "Epoch 140/300\n",
            "74/74 [==============================] - 0s 4ms/step - loss: 0.1026 - accuracy: 0.9643\n",
            "Epoch 141/300\n",
            "74/74 [==============================] - 0s 3ms/step - loss: 0.0863 - accuracy: 0.9694\n",
            "Epoch 142/300\n",
            "74/74 [==============================] - 0s 4ms/step - loss: 0.1211 - accuracy: 0.9610\n",
            "Epoch 143/300\n",
            "74/74 [==============================] - 0s 3ms/step - loss: 0.0883 - accuracy: 0.9636\n",
            "Epoch 144/300\n",
            "74/74 [==============================] - 0s 3ms/step - loss: 0.1190 - accuracy: 0.9569\n",
            "Epoch 145/300\n",
            "74/74 [==============================] - 0s 3ms/step - loss: 0.0827 - accuracy: 0.9725\n",
            "Epoch 146/300\n",
            "74/74 [==============================] - 0s 3ms/step - loss: 0.1040 - accuracy: 0.9589\n",
            "Epoch 147/300\n",
            "74/74 [==============================] - 0s 3ms/step - loss: 0.0819 - accuracy: 0.9701\n",
            "Epoch 148/300\n",
            "74/74 [==============================] - 0s 3ms/step - loss: 0.0832 - accuracy: 0.9745\n",
            "Epoch 149/300\n",
            "74/74 [==============================] - 0s 3ms/step - loss: 0.0845 - accuracy: 0.9723\n",
            "Epoch 150/300\n",
            "74/74 [==============================] - 0s 3ms/step - loss: 0.0842 - accuracy: 0.9685\n",
            "Epoch 151/300\n",
            "74/74 [==============================] - 0s 3ms/step - loss: 0.0811 - accuracy: 0.9702\n",
            "Epoch 152/300\n",
            "74/74 [==============================] - 0s 4ms/step - loss: 0.0926 - accuracy: 0.9677\n",
            "Epoch 153/300\n",
            "74/74 [==============================] - 0s 3ms/step - loss: 0.0875 - accuracy: 0.9688\n",
            "Epoch 154/300\n",
            "74/74 [==============================] - 0s 3ms/step - loss: 0.0836 - accuracy: 0.9650\n",
            "Epoch 155/300\n",
            "74/74 [==============================] - 0s 3ms/step - loss: 0.0729 - accuracy: 0.9715\n",
            "Epoch 156/300\n",
            "74/74 [==============================] - 0s 3ms/step - loss: 0.0981 - accuracy: 0.9625\n",
            "Epoch 157/300\n",
            "74/74 [==============================] - 0s 3ms/step - loss: 0.0921 - accuracy: 0.9652\n",
            "Epoch 158/300\n",
            "74/74 [==============================] - 0s 3ms/step - loss: 0.0612 - accuracy: 0.9787\n",
            "Epoch 159/300\n",
            "74/74 [==============================] - 0s 3ms/step - loss: 0.0782 - accuracy: 0.9721\n",
            "Epoch 160/300\n",
            "74/74 [==============================] - 0s 4ms/step - loss: 0.0830 - accuracy: 0.9700\n",
            "Epoch 161/300\n",
            "74/74 [==============================] - 0s 4ms/step - loss: 0.1018 - accuracy: 0.9618\n",
            "Epoch 162/300\n",
            "74/74 [==============================] - 0s 5ms/step - loss: 0.0887 - accuracy: 0.9713\n",
            "Epoch 163/300\n",
            "74/74 [==============================] - 0s 3ms/step - loss: 0.0819 - accuracy: 0.9688\n",
            "Epoch 164/300\n",
            "74/74 [==============================] - 0s 4ms/step - loss: 0.0727 - accuracy: 0.9792\n",
            "Epoch 165/300\n",
            "74/74 [==============================] - 0s 3ms/step - loss: 0.0919 - accuracy: 0.9671\n",
            "Epoch 166/300\n",
            "74/74 [==============================] - 0s 4ms/step - loss: 0.1080 - accuracy: 0.9580\n",
            "Epoch 167/300\n",
            "74/74 [==============================] - 0s 4ms/step - loss: 0.0834 - accuracy: 0.9726\n",
            "Epoch 168/300\n",
            "74/74 [==============================] - 0s 4ms/step - loss: 0.1040 - accuracy: 0.9581\n",
            "Epoch 169/300\n",
            "74/74 [==============================] - 0s 3ms/step - loss: 0.0933 - accuracy: 0.9679\n",
            "Epoch 170/300\n",
            "74/74 [==============================] - 0s 3ms/step - loss: 0.0830 - accuracy: 0.9670\n",
            "Epoch 171/300\n",
            "74/74 [==============================] - 0s 3ms/step - loss: 0.0930 - accuracy: 0.9697\n",
            "Epoch 172/300\n",
            "74/74 [==============================] - 0s 3ms/step - loss: 0.1013 - accuracy: 0.9573\n",
            "Epoch 173/300\n",
            "74/74 [==============================] - 0s 3ms/step - loss: 0.0741 - accuracy: 0.9720\n",
            "Epoch 174/300\n",
            "74/74 [==============================] - 0s 3ms/step - loss: 0.0728 - accuracy: 0.9802\n",
            "Epoch 175/300\n",
            "74/74 [==============================] - 0s 3ms/step - loss: 0.0720 - accuracy: 0.9757\n",
            "Epoch 176/300\n",
            "74/74 [==============================] - 0s 3ms/step - loss: 0.0899 - accuracy: 0.9600\n",
            "Epoch 177/300\n",
            "74/74 [==============================] - 0s 4ms/step - loss: 0.1201 - accuracy: 0.9550\n",
            "Epoch 178/300\n",
            "74/74 [==============================] - 0s 3ms/step - loss: 0.0691 - accuracy: 0.9744\n",
            "Epoch 179/300\n",
            "74/74 [==============================] - 0s 3ms/step - loss: 0.1013 - accuracy: 0.9588\n",
            "Epoch 180/300\n",
            "74/74 [==============================] - 0s 3ms/step - loss: 0.0862 - accuracy: 0.9680\n",
            "Epoch 181/300\n",
            "74/74 [==============================] - 0s 3ms/step - loss: 0.0691 - accuracy: 0.9724\n",
            "Epoch 182/300\n",
            "74/74 [==============================] - 0s 5ms/step - loss: 0.0706 - accuracy: 0.9727\n",
            "Epoch 183/300\n",
            "74/74 [==============================] - 0s 4ms/step - loss: 0.0623 - accuracy: 0.9776\n",
            "Epoch 184/300\n",
            "74/74 [==============================] - 0s 4ms/step - loss: 0.0726 - accuracy: 0.9728\n",
            "Epoch 185/300\n",
            "74/74 [==============================] - 0s 4ms/step - loss: 0.0601 - accuracy: 0.9814\n",
            "Epoch 186/300\n",
            "74/74 [==============================] - 0s 4ms/step - loss: 0.0873 - accuracy: 0.9668\n",
            "Epoch 187/300\n",
            "74/74 [==============================] - 0s 4ms/step - loss: 0.0900 - accuracy: 0.9620\n",
            "Epoch 188/300\n",
            "74/74 [==============================] - 0s 4ms/step - loss: 0.0866 - accuracy: 0.9693\n",
            "Epoch 189/300\n",
            "74/74 [==============================] - 0s 4ms/step - loss: 0.0766 - accuracy: 0.9744\n",
            "Epoch 190/300\n",
            "74/74 [==============================] - 0s 3ms/step - loss: 0.0855 - accuracy: 0.9708\n",
            "Epoch 191/300\n",
            "74/74 [==============================] - 0s 3ms/step - loss: 0.0808 - accuracy: 0.9739\n",
            "Epoch 192/300\n",
            "74/74 [==============================] - 0s 3ms/step - loss: 0.0859 - accuracy: 0.9666\n",
            "Epoch 193/300\n",
            "74/74 [==============================] - 0s 3ms/step - loss: 0.0711 - accuracy: 0.9767\n",
            "Epoch 194/300\n",
            "74/74 [==============================] - 0s 4ms/step - loss: 0.0806 - accuracy: 0.9735\n",
            "Epoch 195/300\n",
            "74/74 [==============================] - 0s 5ms/step - loss: 0.0815 - accuracy: 0.9711\n",
            "Epoch 196/300\n",
            "74/74 [==============================] - 0s 4ms/step - loss: 0.0654 - accuracy: 0.9768\n",
            "Epoch 197/300\n",
            "74/74 [==============================] - 0s 3ms/step - loss: 0.0735 - accuracy: 0.9720\n",
            "Epoch 198/300\n",
            "74/74 [==============================] - 0s 3ms/step - loss: 0.0724 - accuracy: 0.9753\n",
            "Epoch 199/300\n",
            "74/74 [==============================] - 0s 3ms/step - loss: 0.0894 - accuracy: 0.9658\n",
            "Epoch 200/300\n",
            "74/74 [==============================] - 0s 4ms/step - loss: 0.0940 - accuracy: 0.9688\n",
            "Epoch 201/300\n",
            "74/74 [==============================] - 0s 3ms/step - loss: 0.0655 - accuracy: 0.9748\n",
            "Epoch 202/300\n",
            "74/74 [==============================] - 0s 3ms/step - loss: 0.0630 - accuracy: 0.9766\n",
            "Epoch 203/300\n",
            "74/74 [==============================] - 0s 4ms/step - loss: 0.0754 - accuracy: 0.9706\n",
            "Epoch 204/300\n",
            "74/74 [==============================] - 0s 4ms/step - loss: 0.0988 - accuracy: 0.9591\n",
            "Epoch 205/300\n",
            "74/74 [==============================] - 0s 4ms/step - loss: 0.1196 - accuracy: 0.9457\n",
            "Epoch 206/300\n",
            "74/74 [==============================] - 0s 4ms/step - loss: 0.0723 - accuracy: 0.9706\n",
            "Epoch 207/300\n",
            "74/74 [==============================] - 0s 3ms/step - loss: 0.1044 - accuracy: 0.9555\n",
            "Epoch 208/300\n",
            "74/74 [==============================] - 0s 3ms/step - loss: 0.0735 - accuracy: 0.9735\n",
            "Epoch 209/300\n",
            "74/74 [==============================] - 0s 3ms/step - loss: 0.0715 - accuracy: 0.9819\n",
            "Epoch 210/300\n",
            "74/74 [==============================] - 0s 3ms/step - loss: 0.0583 - accuracy: 0.9774\n",
            "Epoch 211/300\n",
            "74/74 [==============================] - 0s 4ms/step - loss: 0.0564 - accuracy: 0.9799\n",
            "Epoch 212/300\n",
            "74/74 [==============================] - 0s 4ms/step - loss: 0.0872 - accuracy: 0.9662\n",
            "Epoch 213/300\n",
            "74/74 [==============================] - 0s 5ms/step - loss: 0.0665 - accuracy: 0.9763\n",
            "Epoch 214/300\n",
            "74/74 [==============================] - 0s 4ms/step - loss: 0.0598 - accuracy: 0.9747\n",
            "Epoch 215/300\n",
            "74/74 [==============================] - 0s 3ms/step - loss: 0.0770 - accuracy: 0.9635\n",
            "Epoch 216/300\n",
            "74/74 [==============================] - 0s 3ms/step - loss: 0.0694 - accuracy: 0.9731\n",
            "Epoch 217/300\n",
            "74/74 [==============================] - 0s 4ms/step - loss: 0.1043 - accuracy: 0.9601\n",
            "Epoch 218/300\n",
            "74/74 [==============================] - 0s 3ms/step - loss: 0.1174 - accuracy: 0.9568\n",
            "Epoch 219/300\n",
            "74/74 [==============================] - 0s 3ms/step - loss: 0.0994 - accuracy: 0.9716\n",
            "Epoch 220/300\n",
            "74/74 [==============================] - 0s 4ms/step - loss: 0.0754 - accuracy: 0.9705\n",
            "Epoch 221/300\n",
            "74/74 [==============================] - 0s 4ms/step - loss: 0.0975 - accuracy: 0.9690\n",
            "Epoch 222/300\n",
            "74/74 [==============================] - 0s 3ms/step - loss: 0.0830 - accuracy: 0.9702\n",
            "Epoch 223/300\n",
            "74/74 [==============================] - 0s 3ms/step - loss: 0.0674 - accuracy: 0.9807\n",
            "Epoch 224/300\n",
            "74/74 [==============================] - 0s 4ms/step - loss: 0.0754 - accuracy: 0.9716\n",
            "Epoch 225/300\n",
            "74/74 [==============================] - 0s 3ms/step - loss: 0.0646 - accuracy: 0.9746\n",
            "Epoch 226/300\n",
            "74/74 [==============================] - 0s 3ms/step - loss: 0.0627 - accuracy: 0.9805\n",
            "Epoch 227/300\n",
            "74/74 [==============================] - 0s 3ms/step - loss: 0.0672 - accuracy: 0.9765\n",
            "Epoch 228/300\n",
            "74/74 [==============================] - 0s 3ms/step - loss: 0.0939 - accuracy: 0.9702\n",
            "Epoch 229/300\n",
            "74/74 [==============================] - 0s 3ms/step - loss: 0.0671 - accuracy: 0.9749\n",
            "Epoch 230/300\n",
            "74/74 [==============================] - 0s 3ms/step - loss: 0.0832 - accuracy: 0.9670\n",
            "Epoch 231/300\n",
            "74/74 [==============================] - 0s 3ms/step - loss: 0.1308 - accuracy: 0.9626\n",
            "Epoch 232/300\n",
            "74/74 [==============================] - 0s 4ms/step - loss: 0.0987 - accuracy: 0.9594\n",
            "Epoch 233/300\n",
            "74/74 [==============================] - 0s 3ms/step - loss: 0.0841 - accuracy: 0.9695\n",
            "Epoch 234/300\n",
            "74/74 [==============================] - 0s 3ms/step - loss: 0.0744 - accuracy: 0.9735\n",
            "Epoch 235/300\n",
            "74/74 [==============================] - 0s 3ms/step - loss: 0.0784 - accuracy: 0.9697\n",
            "Epoch 236/300\n",
            "74/74 [==============================] - 0s 3ms/step - loss: 0.0924 - accuracy: 0.9660\n",
            "Epoch 237/300\n",
            "74/74 [==============================] - 0s 3ms/step - loss: 0.0576 - accuracy: 0.9804\n",
            "Epoch 238/300\n",
            "74/74 [==============================] - 0s 3ms/step - loss: 0.0663 - accuracy: 0.9754\n",
            "Epoch 239/300\n",
            "74/74 [==============================] - 0s 3ms/step - loss: 0.0940 - accuracy: 0.9650\n",
            "Epoch 240/300\n",
            "74/74 [==============================] - 0s 3ms/step - loss: 0.0634 - accuracy: 0.9769\n",
            "Epoch 241/300\n",
            "74/74 [==============================] - 0s 4ms/step - loss: 0.0587 - accuracy: 0.9807\n",
            "Epoch 242/300\n",
            "74/74 [==============================] - 0s 3ms/step - loss: 0.0782 - accuracy: 0.9686\n",
            "Epoch 243/300\n",
            "74/74 [==============================] - 0s 3ms/step - loss: 0.0419 - accuracy: 0.9869\n",
            "Epoch 244/300\n",
            "74/74 [==============================] - 0s 4ms/step - loss: 0.0637 - accuracy: 0.9769\n",
            "Epoch 245/300\n",
            "74/74 [==============================] - 0s 4ms/step - loss: 0.0968 - accuracy: 0.9684\n",
            "Epoch 246/300\n",
            "74/74 [==============================] - 0s 4ms/step - loss: 0.0628 - accuracy: 0.9772\n",
            "Epoch 247/300\n",
            "74/74 [==============================] - 0s 4ms/step - loss: 0.0651 - accuracy: 0.9713\n",
            "Epoch 248/300\n",
            "74/74 [==============================] - 0s 3ms/step - loss: 0.0474 - accuracy: 0.9833\n",
            "Epoch 249/300\n",
            "74/74 [==============================] - 0s 3ms/step - loss: 0.0628 - accuracy: 0.9738\n",
            "Epoch 250/300\n",
            "74/74 [==============================] - 0s 3ms/step - loss: 0.0751 - accuracy: 0.9726\n",
            "Epoch 251/300\n",
            "74/74 [==============================] - 0s 3ms/step - loss: 0.0681 - accuracy: 0.9774\n",
            "Epoch 252/300\n",
            "74/74 [==============================] - 0s 3ms/step - loss: 0.0595 - accuracy: 0.9766\n",
            "Epoch 253/300\n",
            "74/74 [==============================] - 0s 3ms/step - loss: 0.0728 - accuracy: 0.9736\n",
            "Epoch 254/300\n",
            "74/74 [==============================] - 0s 4ms/step - loss: 0.0928 - accuracy: 0.9685\n",
            "Epoch 255/300\n",
            "74/74 [==============================] - 0s 4ms/step - loss: 0.0724 - accuracy: 0.9793\n",
            "Epoch 256/300\n",
            "74/74 [==============================] - 0s 3ms/step - loss: 0.0776 - accuracy: 0.9773\n",
            "Epoch 257/300\n",
            "74/74 [==============================] - 0s 3ms/step - loss: 0.1231 - accuracy: 0.9603\n",
            "Epoch 258/300\n",
            "74/74 [==============================] - 0s 3ms/step - loss: 0.0831 - accuracy: 0.9701\n",
            "Epoch 259/300\n",
            "74/74 [==============================] - 0s 3ms/step - loss: 0.0570 - accuracy: 0.9780\n",
            "Epoch 260/300\n",
            "74/74 [==============================] - 0s 4ms/step - loss: 0.0593 - accuracy: 0.9790\n",
            "Epoch 261/300\n",
            "74/74 [==============================] - 0s 3ms/step - loss: 0.0715 - accuracy: 0.9697\n",
            "Epoch 262/300\n",
            "74/74 [==============================] - 0s 4ms/step - loss: 0.0748 - accuracy: 0.9710\n",
            "Epoch 263/300\n",
            "74/74 [==============================] - 0s 3ms/step - loss: 0.0650 - accuracy: 0.9777\n",
            "Epoch 264/300\n",
            "74/74 [==============================] - 0s 3ms/step - loss: 0.0658 - accuracy: 0.9794\n",
            "Epoch 265/300\n",
            "74/74 [==============================] - 0s 3ms/step - loss: 0.1039 - accuracy: 0.9581\n",
            "Epoch 266/300\n",
            "74/74 [==============================] - 0s 4ms/step - loss: 0.0885 - accuracy: 0.9678\n",
            "Epoch 267/300\n",
            "74/74 [==============================] - 0s 3ms/step - loss: 0.1194 - accuracy: 0.9590\n",
            "Epoch 268/300\n",
            "74/74 [==============================] - 0s 4ms/step - loss: 0.0740 - accuracy: 0.9716\n",
            "Epoch 269/300\n",
            "74/74 [==============================] - 0s 3ms/step - loss: 0.0824 - accuracy: 0.9664\n",
            "Epoch 270/300\n",
            "74/74 [==============================] - 0s 3ms/step - loss: 0.0570 - accuracy: 0.9745\n",
            "Epoch 271/300\n",
            "74/74 [==============================] - 0s 3ms/step - loss: 0.1259 - accuracy: 0.9594\n",
            "Epoch 272/300\n",
            "74/74 [==============================] - 0s 3ms/step - loss: 0.0595 - accuracy: 0.9795\n",
            "Epoch 273/300\n",
            "74/74 [==============================] - 0s 4ms/step - loss: 0.0574 - accuracy: 0.9803\n",
            "Epoch 274/300\n",
            "74/74 [==============================] - 0s 5ms/step - loss: 0.0652 - accuracy: 0.9767\n",
            "Epoch 275/300\n",
            "74/74 [==============================] - 0s 3ms/step - loss: 0.0533 - accuracy: 0.9782\n",
            "Epoch 276/300\n",
            "74/74 [==============================] - 0s 3ms/step - loss: 0.0696 - accuracy: 0.9695\n",
            "Epoch 277/300\n",
            "74/74 [==============================] - 0s 4ms/step - loss: 0.0766 - accuracy: 0.9732\n",
            "Epoch 278/300\n",
            "74/74 [==============================] - 0s 3ms/step - loss: 0.0617 - accuracy: 0.9795\n",
            "Epoch 279/300\n",
            "74/74 [==============================] - 0s 3ms/step - loss: 0.0612 - accuracy: 0.9791\n",
            "Epoch 280/300\n",
            "74/74 [==============================] - 0s 3ms/step - loss: 0.0623 - accuracy: 0.9749\n",
            "Epoch 281/300\n",
            "74/74 [==============================] - 0s 4ms/step - loss: 0.0652 - accuracy: 0.9790\n",
            "Epoch 282/300\n",
            "74/74 [==============================] - 0s 4ms/step - loss: 0.0743 - accuracy: 0.9747\n",
            "Epoch 283/300\n",
            "74/74 [==============================] - 0s 3ms/step - loss: 0.0845 - accuracy: 0.9689\n",
            "Epoch 284/300\n",
            "74/74 [==============================] - 0s 4ms/step - loss: 0.0669 - accuracy: 0.9745\n",
            "Epoch 285/300\n",
            "74/74 [==============================] - 0s 4ms/step - loss: 0.0624 - accuracy: 0.9761\n",
            "Epoch 286/300\n",
            "74/74 [==============================] - 0s 4ms/step - loss: 0.0715 - accuracy: 0.9742\n",
            "Epoch 287/300\n",
            "74/74 [==============================] - 0s 4ms/step - loss: 0.0701 - accuracy: 0.9705\n",
            "Epoch 288/300\n",
            "74/74 [==============================] - 0s 4ms/step - loss: 0.0588 - accuracy: 0.9790\n",
            "Epoch 289/300\n",
            "74/74 [==============================] - 0s 3ms/step - loss: 0.0941 - accuracy: 0.9636\n",
            "Epoch 290/300\n",
            "74/74 [==============================] - 0s 3ms/step - loss: 0.0631 - accuracy: 0.9775\n",
            "Epoch 291/300\n",
            "74/74 [==============================] - 0s 4ms/step - loss: 0.0614 - accuracy: 0.9784\n",
            "Epoch 292/300\n",
            "74/74 [==============================] - 0s 4ms/step - loss: 0.0618 - accuracy: 0.9737\n",
            "Epoch 293/300\n",
            "74/74 [==============================] - 0s 3ms/step - loss: 0.1302 - accuracy: 0.9519\n",
            "Epoch 294/300\n",
            "74/74 [==============================] - 0s 3ms/step - loss: 0.1016 - accuracy: 0.9596\n",
            "Epoch 295/300\n",
            "74/74 [==============================] - 0s 4ms/step - loss: 0.0790 - accuracy: 0.9713\n",
            "Epoch 296/300\n",
            "74/74 [==============================] - 0s 4ms/step - loss: 0.0510 - accuracy: 0.9778\n",
            "Epoch 297/300\n",
            "74/74 [==============================] - 0s 3ms/step - loss: 0.0748 - accuracy: 0.9691\n",
            "Epoch 298/300\n",
            "74/74 [==============================] - 0s 3ms/step - loss: 0.0620 - accuracy: 0.9741\n",
            "Epoch 299/300\n",
            "74/74 [==============================] - 0s 4ms/step - loss: 0.0797 - accuracy: 0.9771\n",
            "Epoch 300/300\n",
            "74/74 [==============================] - 0s 3ms/step - loss: 0.0767 - accuracy: 0.9751\n"
          ],
          "name": "stdout"
        }
      ]
    },
    {
      "cell_type": "code",
      "metadata": {
        "id": "RJsvFrIRvp4j"
      },
      "source": [
        "y_pred = ann.predict_classes(X_test)"
      ],
      "execution_count": 248,
      "outputs": []
    },
    {
      "cell_type": "code",
      "metadata": {
        "colab": {
          "base_uri": "https://localhost:8080/",
          "height": 283
        },
        "id": "dneCVJRUvswZ",
        "outputId": "a14b942c-1e39-484e-c38f-2314edcfed17"
      },
      "source": [
        "from sklearn.metrics import confusion_matrix, accuracy_score\r\n",
        "cm6 = confusion_matrix(y_test, y_pred)\r\n",
        "sns.heatmap(cm6,annot=True)\r\n",
        "acc9=accuracy_score(y_test, y_pred)\r\n",
        "acc9"
      ],
      "execution_count": 249,
      "outputs": [
        {
          "output_type": "execute_result",
          "data": {
            "text/plain": [
              "0.682741116751269"
            ]
          },
          "metadata": {
            "tags": []
          },
          "execution_count": 249
        },
        {
          "output_type": "display_data",
          "data": {
            "image/png": "[encoded data removed]",
            "text/plain": [
              "<Figure size 432x288 with 2 Axes>"
            ]
          },
          "metadata": {
            "tags": [],
            "needs_background": "light"
          }
        }
      ]
    }
  ]
}